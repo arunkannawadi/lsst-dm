{
 "cells": [
  {
   "cell_type": "markdown",
   "metadata": {},
   "source": [
    "# Cross-validating interpolation kernels\n",
    "\n",
    "In order to check if the Lanczos interpolation kernels in GalSim and in the LSST stack are identical, and if not, to understand the differences, we perform a simple check here."
   ]
  },
  {
   "cell_type": "code",
   "execution_count": 2,
   "metadata": {},
   "outputs": [],
   "source": [
    "## Do the imports and call the butler\n",
    "\n",
    "from lsst.daf.persistence import Butler\n",
    "import lsst.geom as geom\n",
    "import lsst.afw.math as afwMath\n",
    "import lsst.afw.image as afwImage\n",
    "import lsst.afw.geom as afwGeom\n",
    "import lsst.meas.algorithms as measAlg\n",
    "\n",
    "import numpy as np\n",
    "import matplotlib.pyplot as plt\n",
    "from matplotlib.colors import LogNorm\n",
    "\n",
    "import galsim"
   ]
  },
  {
   "cell_type": "code",
   "execution_count": 56,
   "metadata": {},
   "outputs": [],
   "source": [
    "normalisation_ratios = [] ## you'll understand its purpose later"
   ]
  },
  {
   "cell_type": "markdown",
   "metadata": {},
   "source": [
    "Draw a Gaussian image and interpolate to half the pixel size. We first test our implemention, particularly involving flux normalization, pixel origin conventions etc. are consistent between GalSim and LSST stack\n",
    "\n",
    "## Bilinear interpolation"
   ]
  },
  {
   "cell_type": "code",
   "execution_count": 129,
   "metadata": {},
   "outputs": [],
   "source": [
    "gauss = galsim.Gaussian(sigma=0.7)#.shear(g1=0.3,g2=0.4)\n",
    "#gauss = galsim.Convolve([galsim.Gaussian(sigma=1.2).shear(g1=0.03,g2=0.04), galsim.Exponential(half_light_radius=1.7).shear(g1=-0.1,g2=0.08)])\n",
    "gauss_img = galsim.Image(ncol=41,nrow=41,init_value=4.)\n",
    "gauss_img = gauss.drawImage(image=gauss_img, method='no_pixel',scale=0.5)\n",
    "gauss_img.scale = 0.5\n",
    "afwExp_array = np.array(gauss_img.array, dtype=np.float64)\n",
    "afwExp = afwImage.ImageD(array=afwExp_array, deep=False, xy0=geom.Point2I(0,0))"
   ]
  },
  {
   "cell_type": "markdown",
   "metadata": {},
   "source": [
    "#### LSST stack implemention"
   ]
  },
  {
   "cell_type": "code",
   "execution_count": 130,
   "metadata": {},
   "outputs": [
    {
     "data": {
      "text/plain": [
       "<matplotlib.image.AxesImage at 0x7fa378d9ccf8>"
      ]
     },
     "execution_count": 130,
     "metadata": {},
     "output_type": "execute_result"
    },
    {
     "data": {
      "image/png": "[encoded data removed]",
      "text/plain": [
       "<Figure size 432x288 with 2 Axes>"
      ]
     },
     "metadata": {
      "needs_background": "light"
     },
     "output_type": "display_data"
    }
   ],
   "source": [
    "lT = geom.AffineTransform(linear=2.*np.eye(2))\n",
    "wc = afwMath.WarpingControl(warpingKernelName='bilinear')\n",
    "destImage = afwImage.ImageD(array=np.zeros((81,81)),deep=False,xy0=geom.Point2I(0,0))\n",
    "_warp = afwMath.warpImage(destImage=destImage, srcImage=afwExp, srcToDest=afwGeom.makeTransform(lT), control=wc)\n",
    "fig, ax = plt.subplots(1,2)\n",
    "ax[0].imshow(afwExp_array)\n",
    "ax[1].imshow(destImage.array)"
   ]
  },
  {
   "cell_type": "markdown",
   "metadata": {},
   "source": [
    "#### GalSim implementation"
   ]
  },
  {
   "cell_type": "code",
   "execution_count": 131,
   "metadata": {},
   "outputs": [
    {
     "data": {
      "text/plain": [
       "<matplotlib.image.AxesImage at 0x7fa378cd4550>"
      ]
     },
     "execution_count": 131,
     "metadata": {},
     "output_type": "execute_result"
    },
    {
     "data": {
      "image/png": "[encoded data removed]",
      "text/plain": [
       "<Figure size 432x288 with 2 Axes>"
      ]
     },
     "metadata": {
      "needs_background": "light"
     },
     "output_type": "display_data"
    }
   ],
   "source": [
    "gauss_ii = galsim.InterpolatedImage(gauss_img, x_interpolant='linear')\n",
    "gauss_hires = galsim.Image(np.zeros_like(destImage.array))\n",
    "gauss_hires = gauss_ii.drawImage(image=gauss_hires, method='no_pixel',scale=0.25)\n",
    "fig, ax = plt.subplots(1,2)\n",
    "ax[0].imshow(gauss_img.array)\n",
    "ax[1].imshow(gauss_hires.array)"
   ]
  },
  {
   "cell_type": "code",
   "execution_count": 132,
   "metadata": {},
   "outputs": [],
   "source": [
    "np.testing.assert_array_equal(destImage.array[0:79:2,0:79:2], 0.25*afwExp_array[:-1,:-1])\n",
    "np.testing.assert_array_equal(destImage.array[1:79:2,1:79:2], 0.25*(destImage.array[2:80:2,0:78:2] + destImage.array[2:80:2,2:80:2] + destImage.array[0:78:2,2:80:2] + destImage.array[0:78:2,0:78:2]))\n",
    "\n",
    "np.testing.assert_array_equal(gauss_hires.array[:80,:80], destImage.array[:80,:80])"
   ]
  },
  {
   "cell_type": "markdown",
   "metadata": {},
   "source": [
    "If the above assertions are true, then it indicates that GalSim and LSST stack behaviours are identical, and they also do what we expect them to do. Time to move on to Lanczos kernels\n",
    "\n",
    "## Lanczos interpolation"
   ]
  },
  {
   "cell_type": "code",
   "execution_count": 133,
   "metadata": {},
   "outputs": [],
   "source": [
    "lanczos_order = 3\n",
    "kernel_name = 'lanczos{0}'.format(lanczos_order)\n",
    "x_interpolant = galsim.Lanczos(n=lanczos_order, conserve_dc=True)\n",
    "lT = geom.AffineTransform(linear=2.*np.eye(2))\n",
    "wc = afwMath.WarpingControl(warpingKernelName=kernel_name)\n",
    "destImage = afwImage.ImageD(array=np.zeros((81,81)),deep=False,xy0=geom.Point2I(0,0))\n",
    "_warp = afwMath.warpImage(destImage=destImage, srcImage=afwExp, srcToDest=afwGeom.makeTransform(lT), control=wc)"
   ]
  },
  {
   "cell_type": "code",
   "execution_count": 134,
   "metadata": {},
   "outputs": [],
   "source": [
    "gauss_ii = galsim.InterpolatedImage(gauss_img, x_interpolant=x_interpolant)\n",
    "gauss_hires = galsim.Image(np.zeros_like(destImage.array))\n",
    "gauss_hires = gauss_ii.drawImage(image=gauss_hires, method='no_pixel',scale=0.25)"
   ]
  },
  {
   "cell_type": "code",
   "execution_count": 135,
   "metadata": {},
   "outputs": [
    {
     "name": "stdout",
     "output_type": "stream",
     "text": [
      "arr1 =  [[0.00000000e+00 0.00000000e+00 0.00000000e+00 ... 0.00000000e+00\n",
      "  0.00000000e+00 0.00000000e+00]\n",
      " [0.00000000e+00 0.00000000e+00 0.00000000e+00 ... 0.00000000e+00\n",
      "  0.00000000e+00 0.00000000e+00]\n",
      " [0.00000000e+00 0.00000000e+00 4.19071912e-49 ... 4.19071912e-49\n",
      "  0.00000000e+00 0.00000000e+00]\n",
      " ...\n",
      " [0.00000000e+00 0.00000000e+00 4.19071912e-49 ... 4.19071912e-49\n",
      "  0.00000000e+00 0.00000000e+00]\n",
      " [0.00000000e+00 0.00000000e+00 0.00000000e+00 ... 0.00000000e+00\n",
      "  0.00000000e+00 0.00000000e+00]\n",
      " [0.00000000e+00 0.00000000e+00 0.00000000e+00 ... 0.00000000e+00\n",
      "  0.00000000e+00 0.00000000e+00]]\n",
      "arr2 =  [[0.00000000e+000 0.00000000e+000 0.00000000e+000 ... 0.00000000e+000\n",
      "  0.00000000e+000 0.00000000e+000]\n",
      " [0.00000000e+000 1.61787352e-111 2.60385802e-080 ... 2.60385802e-080\n",
      "  0.00000000e+000 0.00000000e+000]\n",
      " [0.00000000e+000 2.60385802e-080 4.19073339e-049 ... 4.19073339e-049\n",
      "  0.00000000e+000 0.00000000e+000]\n",
      " ...\n",
      " [0.00000000e+000 2.60385802e-080 4.19073339e-049 ... 4.19073339e-049\n",
      "  0.00000000e+000 0.00000000e+000]\n",
      " [0.00000000e+000 0.00000000e+000 0.00000000e+000 ... 0.00000000e+000\n",
      "  0.00000000e+000 0.00000000e+000]\n",
      " [0.00000000e+000 0.00000000e+000 0.00000000e+000 ... 0.00000000e+000\n",
      "  0.00000000e+000 0.00000000e+000]]\n",
      "orig =  [[0. 0. 0.]\n",
      " [0. 0. 0.]\n",
      " [0. 0. 0.]]\n",
      "Max values =  0.020300375297665596 0.020300375297665596 0.020300375297665596\n"
     ]
    }
   ],
   "source": [
    "arr1 = gauss_hires.array[5:-5,5:-5]\n",
    "arr2 = destImage.array[5:-5,5:-5]\n",
    "print(\"arr1 = \", arr1)\n",
    "print(\"arr2 = \", arr2)\n",
    "print(\"orig = \", 0.25*gauss_img.array[2:5,2:5])\n",
    "print(\"Max values = \", arr1.max(), np.nanmax(arr2), 0.25*gauss_img.array.max())"
   ]
  },
  {
   "cell_type": "markdown",
   "metadata": {},
   "source": [
    "First, make sure that original pixel values are present in the interpolated images"
   ]
  },
  {
   "cell_type": "code",
   "execution_count": 136,
   "metadata": {},
   "outputs": [
    {
     "ename": "AssertionError",
     "evalue": "\nArrays are not equal\n\nMismatched elements: 353 / 400 (88.2%)\nMax absolute difference: 8.67361738e-19\nMax relative difference: 3.05573951e-13\n x: array([[1.411310e-24, 1.797302e-22, 1.374172e-20, 6.307862e-19,\n        1.738379e-17, 2.876259e-16, 2.857148e-15, 1.703957e-14,\n        6.101064e-14, 1.311517e-13, 1.692635e-13, 1.311517e-13,...\n y: array([[1.411310e-24, 1.797302e-22, 1.374172e-20, 6.307862e-19,\n        1.738379e-17, 2.876259e-16, 2.857148e-15, 1.703957e-14,\n        6.101064e-14, 1.311517e-13, 1.692635e-13, 1.311517e-13,...",
     "output_type": "error",
     "traceback": [
      "\u001b[0;31m---------------------------------------------------------------------------\u001b[0m",
      "\u001b[0;31mAssertionError\u001b[0m                            Traceback (most recent call last)",
      "\u001b[0;32m<ipython-input-136-628f488f8147>\u001b[0m in \u001b[0;36m<module>\u001b[0;34m\u001b[0m\n\u001b[1;32m      2\u001b[0m \u001b[0;32massert\u001b[0m \u001b[0marr1\u001b[0m\u001b[0;34m.\u001b[0m\u001b[0mmax\u001b[0m\u001b[0;34m(\u001b[0m\u001b[0;34m)\u001b[0m\u001b[0;34m==\u001b[0m\u001b[0;36m0.25\u001b[0m\u001b[0;34m*\u001b[0m\u001b[0;34m(\u001b[0m\u001b[0mgauss_img\u001b[0m\u001b[0;34m.\u001b[0m\u001b[0marray\u001b[0m\u001b[0;34m.\u001b[0m\u001b[0mmax\u001b[0m\u001b[0;34m(\u001b[0m\u001b[0;34m)\u001b[0m\u001b[0;34m)\u001b[0m\u001b[0;34m\u001b[0m\u001b[0;34m\u001b[0m\u001b[0m\n\u001b[1;32m      3\u001b[0m \u001b[0mnp\u001b[0m\u001b[0;34m.\u001b[0m\u001b[0mtesting\u001b[0m\u001b[0;34m.\u001b[0m\u001b[0massert_array_equal\u001b[0m\u001b[0;34m(\u001b[0m\u001b[0marr1\u001b[0m\u001b[0;34m[\u001b[0m\u001b[0;36m15\u001b[0m\u001b[0;34m:\u001b[0m\u001b[0;36m55\u001b[0m\u001b[0;34m:\u001b[0m\u001b[0;36m2\u001b[0m\u001b[0;34m,\u001b[0m\u001b[0;36m15\u001b[0m\u001b[0;34m:\u001b[0m\u001b[0;36m55\u001b[0m\u001b[0;34m:\u001b[0m\u001b[0;36m2\u001b[0m\u001b[0;34m]\u001b[0m\u001b[0;34m,\u001b[0m \u001b[0;36m0.25\u001b[0m\u001b[0;34m*\u001b[0m\u001b[0mgauss_img\u001b[0m\u001b[0;34m.\u001b[0m\u001b[0marray\u001b[0m\u001b[0;34m[\u001b[0m\u001b[0;36m10\u001b[0m\u001b[0;34m:\u001b[0m\u001b[0;36m30\u001b[0m\u001b[0;34m,\u001b[0m\u001b[0;36m10\u001b[0m\u001b[0;34m:\u001b[0m\u001b[0;36m30\u001b[0m\u001b[0;34m]\u001b[0m\u001b[0;34m)\u001b[0m\u001b[0;34m\u001b[0m\u001b[0;34m\u001b[0m\u001b[0m\n\u001b[0;32m----> 4\u001b[0;31m \u001b[0mnp\u001b[0m\u001b[0;34m.\u001b[0m\u001b[0mtesting\u001b[0m\u001b[0;34m.\u001b[0m\u001b[0massert_array_equal\u001b[0m\u001b[0;34m(\u001b[0m\u001b[0marr2\u001b[0m\u001b[0;34m[\u001b[0m\u001b[0;36m15\u001b[0m\u001b[0;34m:\u001b[0m\u001b[0;36m55\u001b[0m\u001b[0;34m:\u001b[0m\u001b[0;36m2\u001b[0m\u001b[0;34m,\u001b[0m\u001b[0;36m15\u001b[0m\u001b[0;34m:\u001b[0m\u001b[0;36m55\u001b[0m\u001b[0;34m:\u001b[0m\u001b[0;36m2\u001b[0m\u001b[0;34m]\u001b[0m\u001b[0;34m,\u001b[0m \u001b[0;36m0.25\u001b[0m\u001b[0;34m*\u001b[0m\u001b[0mgauss_img\u001b[0m\u001b[0;34m.\u001b[0m\u001b[0marray\u001b[0m\u001b[0;34m[\u001b[0m\u001b[0;36m10\u001b[0m\u001b[0;34m:\u001b[0m\u001b[0;36m30\u001b[0m\u001b[0;34m,\u001b[0m\u001b[0;36m10\u001b[0m\u001b[0;34m:\u001b[0m\u001b[0;36m30\u001b[0m\u001b[0;34m]\u001b[0m\u001b[0;34m)\u001b[0m\u001b[0;34m\u001b[0m\u001b[0;34m\u001b[0m\u001b[0m\n\u001b[0m",
      "\u001b[0;32m/software/lsstsw/stack_20200220/python/miniconda3-4.7.12/envs/lsst-scipipe/lib/python3.7/site-packages/numpy/testing/_private/utils.py\u001b[0m in \u001b[0;36massert_array_equal\u001b[0;34m(x, y, err_msg, verbose)\u001b[0m\n\u001b[1;32m    934\u001b[0m     \u001b[0m__tracebackhide__\u001b[0m \u001b[0;34m=\u001b[0m \u001b[0;32mTrue\u001b[0m  \u001b[0;31m# Hide traceback for py.test\u001b[0m\u001b[0;34m\u001b[0m\u001b[0;34m\u001b[0m\u001b[0m\n\u001b[1;32m    935\u001b[0m     assert_array_compare(operator.__eq__, x, y, err_msg=err_msg,\n\u001b[0;32m--> 936\u001b[0;31m                          verbose=verbose, header='Arrays are not equal')\n\u001b[0m\u001b[1;32m    937\u001b[0m \u001b[0;34m\u001b[0m\u001b[0m\n\u001b[1;32m    938\u001b[0m \u001b[0;34m\u001b[0m\u001b[0m\n",
      "\u001b[0;32m/software/lsstsw/stack_20200220/python/miniconda3-4.7.12/envs/lsst-scipipe/lib/python3.7/site-packages/numpy/testing/_private/utils.py\u001b[0m in \u001b[0;36massert_array_compare\u001b[0;34m(comparison, x, y, err_msg, verbose, header, precision, equal_nan, equal_inf)\u001b[0m\n\u001b[1;32m    844\u001b[0m                                 \u001b[0mverbose\u001b[0m\u001b[0;34m=\u001b[0m\u001b[0mverbose\u001b[0m\u001b[0;34m,\u001b[0m \u001b[0mheader\u001b[0m\u001b[0;34m=\u001b[0m\u001b[0mheader\u001b[0m\u001b[0;34m,\u001b[0m\u001b[0;34m\u001b[0m\u001b[0;34m\u001b[0m\u001b[0m\n\u001b[1;32m    845\u001b[0m                                 names=('x', 'y'), precision=precision)\n\u001b[0;32m--> 846\u001b[0;31m             \u001b[0;32mraise\u001b[0m \u001b[0mAssertionError\u001b[0m\u001b[0;34m(\u001b[0m\u001b[0mmsg\u001b[0m\u001b[0;34m)\u001b[0m\u001b[0;34m\u001b[0m\u001b[0;34m\u001b[0m\u001b[0m\n\u001b[0m\u001b[1;32m    847\u001b[0m     \u001b[0;32mexcept\u001b[0m \u001b[0mValueError\u001b[0m\u001b[0;34m:\u001b[0m\u001b[0;34m\u001b[0m\u001b[0;34m\u001b[0m\u001b[0m\n\u001b[1;32m    848\u001b[0m         \u001b[0;32mimport\u001b[0m \u001b[0mtraceback\u001b[0m\u001b[0;34m\u001b[0m\u001b[0;34m\u001b[0m\u001b[0m\n",
      "\u001b[0;31mAssertionError\u001b[0m: \nArrays are not equal\n\nMismatched elements: 353 / 400 (88.2%)\nMax absolute difference: 8.67361738e-19\nMax relative difference: 3.05573951e-13\n x: array([[1.411310e-24, 1.797302e-22, 1.374172e-20, 6.307862e-19,\n        1.738379e-17, 2.876259e-16, 2.857148e-15, 1.703957e-14,\n        6.101064e-14, 1.311517e-13, 1.692635e-13, 1.311517e-13,...\n y: array([[1.411310e-24, 1.797302e-22, 1.374172e-20, 6.307862e-19,\n        1.738379e-17, 2.876259e-16, 2.857148e-15, 1.703957e-14,\n        6.101064e-14, 1.311517e-13, 1.692635e-13, 1.311517e-13,..."
     ]
    }
   ],
   "source": [
    "assert arr1.max()==arr2.max()\n",
    "assert arr1.max()==0.25*(gauss_img.array.max())\n",
    "np.testing.assert_array_equal(arr1[15:55:2,15:55:2], 0.25*gauss_img.array[10:30,10:30])\n",
    "np.testing.assert_array_equal(arr2[15:55:2,15:55:2], 0.25*gauss_img.array[10:30,10:30])"
   ]
  },
  {
   "cell_type": "markdown",
   "metadata": {},
   "source": [
    "Let us look at the difference images, only at the interpolated points"
   ]
  },
  {
   "cell_type": "code",
   "execution_count": 137,
   "metadata": {},
   "outputs": [
    {
     "data": {
      "image/png": "[encoded data removed]",
      "text/plain": [
       "<Figure size 1080x432 with 8 Axes>"
      ]
     },
     "metadata": {
      "needs_background": "light"
     },
     "output_type": "display_data"
    }
   ],
   "source": [
    "fig, ax = plt.subplots(1,4)\n",
    "fig.set_size_inches(15,6)\n",
    "_im = [None]*len(ax)\n",
    "_im[0] = ax[0].imshow(arr1)\n",
    "_im[1] = ax[1].imshow(arr2)\n",
    "diff_im = arr1 - arr2\n",
    "_im[2] = ax[2].imshow(diff_im)\n",
    "_im[3] = ax[3].imshow(diff_im[::2,::2])\n",
    "for ii in range(len(ax)):\n",
    "    fig.colorbar(_im[ii],ax=ax[ii],orientation='horizontal')"
   ]
  },
  {
   "cell_type": "markdown",
   "metadata": {},
   "source": [
    "If the difference image traced the profile, there is likely a normalization factor difference. Let's calculate the ratio of the pixel values"
   ]
  },
  {
   "cell_type": "code",
   "execution_count": 139,
   "metadata": {},
   "outputs": [
    {
     "name": "stderr",
     "output_type": "stream",
     "text": [
      "/software/lsstsw/stack_20200220/python/miniconda3-4.7.12/envs/lsst-scipipe/lib/python3.7/site-packages/ipykernel_launcher.py:1: RuntimeWarning: invalid value encountered in true_divide\n",
      "  \"\"\"Entry point for launching an IPython kernel.\n",
      "/software/lsstsw/stack_20200220/python/miniconda3-4.7.12/envs/lsst-scipipe/lib/python3.7/site-packages/ipykernel_launcher.py:7: RuntimeWarning: invalid value encountered in true_divide\n",
      "  import sys\n"
     ]
    },
    {
     "name": "stdout",
     "output_type": "stream",
     "text": [
      "Min =  nan ; Max =  nan : Std. Dev =  nan\n"
     ]
    },
    {
     "data": {
      "image/png": "[encoded data removed]",
      "text/plain": [
       "<Figure size 432x288 with 2 Axes>"
      ]
     },
     "metadata": {
      "needs_background": "light"
     },
     "output_type": "display_data"
    }
   ],
   "source": [
    "ratio_im = arr1[::2,::2]/arr2[::2,::2]\n",
    "fig, ax = plt.subplots()\n",
    "_im = ax.imshow(ratio_im)\n",
    "_cbar = fig.colorbar(_im,ax=ax)\n",
    "normalisation_ratios.append( (ratio_im.mean(), ratio_im.std(), ratio_im.min(), ratio_im.max()) )\n",
    "print(\"Min = \", ratio_im.min(), \"; Max = \", ratio_im.max(), \": Std. Dev = \", ratio_im.std())\n",
    "norm_ratio = (arr1[::2,::2]/arr2[::2,::2]).mean()"
   ]
  },
  {
   "cell_type": "markdown",
   "metadata": {},
   "source": [
    "The ratio is almost constant, and is close to unity. The fluctuations are likely due to numerical artifacts. We adopt the mean of the ratio as the fudge factor.\n",
    "\n",
    "Is the value of the fudge factor independent of the profile drawn?"
   ]
  },
  {
   "cell_type": "code",
   "execution_count": 128,
   "metadata": {},
   "outputs": [
    {
     "name": "stdout",
     "output_type": "stream",
     "text": [
      "Mean, SD, Min, Max\n",
      "(0.9999965966876825, 2.054014465346515e-16, 0.9999965966876818, 0.9999965966876831)\n",
      "(0.9999965966876825, 2.6367345960693474e-16, 0.9999965966876815, 0.9999965966876831)\n",
      "(0.9999965966876825, 2.2101422996892028e-16, 0.9999965966876818, 0.9999965966876831)\n",
      "(0.9999965966876825, 0.0, 0.9999965966876825, 0.9999965966876825)\n",
      "(0.9999965966876825, 2.2101422996892028e-16, 0.9999965966876818, 0.9999965966876831)\n"
     ]
    }
   ],
   "source": [
    "print(\"Mean, SD, Min, Max\")\n",
    "for nr in normalisation_ratios:\n",
    "    print(nr)"
   ]
  },
  {
   "cell_type": "markdown",
   "metadata": {},
   "source": [
    "The fudge factor is indeed independent of the profile drawn, indicating that this is a small difference in the kernel normalization"
   ]
  },
  {
   "cell_type": "code",
   "execution_count": 96,
   "metadata": {},
   "outputs": [
    {
     "data": {
      "text/plain": [
       "(0.9983281771985437, 0.9982687877205186)"
      ]
     },
     "execution_count": 96,
     "metadata": {},
     "output_type": "execute_result"
    }
   ],
   "source": [
    "arr2.sum()/gauss_hires.array.sum(), arr2.sum()/gauss_img.array.sum()"
   ]
  },
  {
   "cell_type": "code",
   "execution_count": 97,
   "metadata": {},
   "outputs": [
    {
     "data": {
      "text/plain": [
       "8540482530161978.0"
      ]
     },
     "execution_count": 97,
     "metadata": {},
     "output_type": "execute_result"
    }
   ],
   "source": [
    "a = lanczos_order\n",
    "L1 = lambda x: np.sin(x)*np.sin(x/a) if np.abs(x)<a else 0\n",
    "L2 = lambda x: a*np.sin(np.pi*x)*np.sin(np.pi*x/a)/(np.pi*x)**2 if np.abs(x)<a else 0\n",
    "\n",
    "L1(1)/L2(1)"
   ]
  },
  {
   "cell_type": "code",
   "execution_count": 98,
   "metadata": {},
   "outputs": [
    {
     "ename": "NoResults",
     "evalue": "No locations for get: datasetType:deepCoadd dataId:DataId(initialdata={'tract': 9701, 'patch': '8,7', 'filter': 'HSC-I'}, tag=set())",
     "output_type": "error",
     "traceback": [
      "\u001b[0;31m---------------------------------------------------------------------------\u001b[0m",
      "\u001b[0;31mNoResults\u001b[0m                                 Traceback (most recent call last)",
      "\u001b[0;32m<ipython-input-98-970cffdd6b40>\u001b[0m in \u001b[0;36m<module>\u001b[0;34m\u001b[0m\n\u001b[1;32m      3\u001b[0m \u001b[0;31m## Set some parameters\u001b[0m\u001b[0;34m\u001b[0m\u001b[0;34m\u001b[0m\u001b[0;34m\u001b[0m\u001b[0m\n\u001b[1;32m      4\u001b[0m \u001b[0mdataId\u001b[0m \u001b[0;34m=\u001b[0m \u001b[0;34m{\u001b[0m\u001b[0;34m'tract'\u001b[0m\u001b[0;34m:\u001b[0m\u001b[0;36m9701\u001b[0m\u001b[0;34m,\u001b[0m \u001b[0;34m'patch'\u001b[0m\u001b[0;34m:\u001b[0m\u001b[0;34m'8,7'\u001b[0m\u001b[0;34m,\u001b[0m \u001b[0;34m'filter'\u001b[0m\u001b[0;34m:\u001b[0m\u001b[0;34m'HSC-I'\u001b[0m\u001b[0;34m}\u001b[0m\u001b[0;34m\u001b[0m\u001b[0;34m\u001b[0m\u001b[0m\n\u001b[0;32m----> 5\u001b[0;31m \u001b[0mdeepCoadd\u001b[0m \u001b[0;34m=\u001b[0m \u001b[0mbutler\u001b[0m\u001b[0;34m.\u001b[0m\u001b[0mget\u001b[0m\u001b[0;34m(\u001b[0m\u001b[0;34m\"deepCoadd\"\u001b[0m\u001b[0;34m,\u001b[0m \u001b[0mdataId\u001b[0m\u001b[0;34m)\u001b[0m\u001b[0;34m\u001b[0m\u001b[0;34m\u001b[0m\u001b[0m\n\u001b[0m\u001b[1;32m      6\u001b[0m \u001b[0;34m\u001b[0m\u001b[0m\n\u001b[1;32m      7\u001b[0m \u001b[0;31m## Define the interpolation kernel\u001b[0m\u001b[0;34m\u001b[0m\u001b[0;34m\u001b[0m\u001b[0;34m\u001b[0m\u001b[0m\n",
      "\u001b[0;32m/software/lsstsw/stack_20200220/stack/miniconda3-4.7.12-984c9f7/Linux64/daf_persistence/19.0.0-2-gf01c5b1+1/python/lsst/daf/persistence/butler.py\u001b[0m in \u001b[0;36mget\u001b[0;34m(self, datasetType, dataId, immediate, **rest)\u001b[0m\n\u001b[1;32m   1397\u001b[0m         \u001b[0mlocation\u001b[0m \u001b[0;34m=\u001b[0m \u001b[0mself\u001b[0m\u001b[0;34m.\u001b[0m\u001b[0m_locate\u001b[0m\u001b[0;34m(\u001b[0m\u001b[0mdatasetType\u001b[0m\u001b[0;34m,\u001b[0m \u001b[0mdataId\u001b[0m\u001b[0;34m,\u001b[0m \u001b[0mwrite\u001b[0m\u001b[0;34m=\u001b[0m\u001b[0;32mFalse\u001b[0m\u001b[0;34m)\u001b[0m\u001b[0;34m\u001b[0m\u001b[0;34m\u001b[0m\u001b[0m\n\u001b[1;32m   1398\u001b[0m         \u001b[0;32mif\u001b[0m \u001b[0mlocation\u001b[0m \u001b[0;32mis\u001b[0m \u001b[0;32mNone\u001b[0m\u001b[0;34m:\u001b[0m\u001b[0;34m\u001b[0m\u001b[0;34m\u001b[0m\u001b[0m\n\u001b[0;32m-> 1399\u001b[0;31m             \u001b[0;32mraise\u001b[0m \u001b[0mNoResults\u001b[0m\u001b[0;34m(\u001b[0m\u001b[0;34m\"No locations for get:\"\u001b[0m\u001b[0;34m,\u001b[0m \u001b[0mdatasetType\u001b[0m\u001b[0;34m,\u001b[0m \u001b[0mdataId\u001b[0m\u001b[0;34m)\u001b[0m\u001b[0;34m\u001b[0m\u001b[0;34m\u001b[0m\u001b[0m\n\u001b[0m\u001b[1;32m   1400\u001b[0m         \u001b[0mself\u001b[0m\u001b[0;34m.\u001b[0m\u001b[0mlog\u001b[0m\u001b[0;34m.\u001b[0m\u001b[0mdebug\u001b[0m\u001b[0;34m(\u001b[0m\u001b[0;34m\"Get type=%s keys=%s from %s\"\u001b[0m\u001b[0;34m,\u001b[0m \u001b[0mdatasetType\u001b[0m\u001b[0;34m,\u001b[0m \u001b[0mdataId\u001b[0m\u001b[0;34m,\u001b[0m \u001b[0mstr\u001b[0m\u001b[0;34m(\u001b[0m\u001b[0mlocation\u001b[0m\u001b[0;34m)\u001b[0m\u001b[0;34m)\u001b[0m\u001b[0;34m\u001b[0m\u001b[0;34m\u001b[0m\u001b[0m\n\u001b[1;32m   1401\u001b[0m \u001b[0;34m\u001b[0m\u001b[0m\n",
      "\u001b[0;31mNoResults\u001b[0m: No locations for get: datasetType:deepCoadd dataId:DataId(initialdata={'tract': 9701, 'patch': '8,7', 'filter': 'HSC-I'}, tag=set())"
     ]
    }
   ],
   "source": [
    "butler = Butler(\"/datasets/hsc/repo/rerun/private/kannawad/RC2/w_2019_44_demo_lanczos5/\")\n",
    "\n",
    "## Set some parameters\n",
    "dataId = {'tract':9701, 'patch':'8,7', 'filter':'HSC-I'}\n",
    "deepCoadd = butler.get(\"deepCoadd\", dataId)\n",
    "\n",
    "## Define the interpolation kernel\n",
    "x_interpolant = \"lanczos5\"\n",
    "\n",
    "coaddPsf = deepCoadd.getPsf()\n",
    "coaddWcs = deepCoadd.getWcs()\n",
    "bbox = deepCoadd.getBBox()\n",
    "\n",
    "## Pick the midpoint of the coadd to compute the PSF there\n",
    "point = geom.Point2D(0.5*(bbox.x.min+bbox.x.max), 0.5*(bbox.y.min+bbox.y.max))\n",
    "print(\"Midpoint: \", point)\n",
    "assert bbox.contains(geom.Point2I(point))\n",
    "\n",
    "print(\"Bounding box of the coadd: \", bbox)\n",
    "print(\"WCS of the coadd: \", coaddWcs)\n",
    "\n",
    "## A set of convenience functions to convert an LSST WCS instance to an equivalent GalSim WCS instance\n",
    "def convertWCS_radec(lsstWCS):\n",
    "    ## A callable function using the LSST WCS that maps image coordinates to world/sky coordinates \n",
    "    def radecfunc(x,y):\n",
    "        imgPoint = geom.Point2D(x,y)\n",
    "        skyPoint = lsstWCS.pixelToSky(imgPoint)\n",
    "        return skyPoint.getRa().asRadians(), skyPoint.getDec().asRadians()\n",
    "\n",
    "    galsimWCS = galsim.RaDecFunction(ra_func=radecfunc)\n",
    "    return galsimWCS\n",
    "\n",
    "def convertWCS_pixelscale(lsstWCS):\n",
    "    galsimWCS = galsim.PixelScale(lsstWCS.getPixelScale().asArcseconds())\n",
    "    return galsimWCS\n",
    "\n",
    "## Define an alias to whichever function you want to choose\n",
    "convertWCS = convertWCS_pixelscale\n",
    "\n",
    "# Generate the warpedPSF explicitly, and compare with that from the LSST stack\n",
    "\n",
    "coaddWcs = deepCoadd.getWcs()\n",
    "component_list = [ ]\n",
    "xyTransform_list = [ ]\n",
    "orig_psf_image_list = [ ]\n",
    "orig_psf_image_copy_list = [ ]\n",
    "galsim_warped_psf_image_list = [ ]\n",
    "galsim_moments =  [ ]\n",
    "moments = [ ]\n",
    "psf_image_list = [ ]\n",
    "psf_image_copy_list = [ ]\n",
    "psf_weight_list = [ ]\n",
    "\n",
    "wc = afwMath.WarpingControl(warpingKernelName='bilinear')\n",
    "\n",
    "for i in range(coaddPsf.getComponentCount()):\n",
    "    calexpPoint = deepCoadd.getPsf().getWcs(i).skyToPixel(coaddWcs.pixelToSky(geom.Point2D(point)))\n",
    "    if deepCoadd.getPsf().getValidPolygon(i).contains(calexpPoint):\n",
    "        component_list.append(i)\n",
    "        #print(coaddPsf.computeBBox())\n",
    "        xyTransform = afwGeom.makeWcsPairTransform(coaddPsf.getWcs(i), coaddWcs)\n",
    "        xyTransform_list.append(xyTransform)\n",
    "        orig_psf = coaddPsf.getPsf(i)\n",
    "        orig_psf_image = orig_psf.computeKernelImage(xyTransform.applyInverse(point))\n",
    "        orig_psf_image_copy = afwImage.ImageD(array=orig_psf_image.array, deep=True, xy0=geom.Point2I(0,0))\n",
    "        print(type(orig_psf_image_copy))\n",
    "        ## Modify the pixel values of orig_psf_image to see what the warping functions do\n",
    "        if False:\n",
    "            \n",
    "            gaussian_image = galsim.Image(orig_psf_image.array)\n",
    "            gaussian_image = galsim.Gaussian(sigma=3.2).drawImage(image=gaussian_image, scale=1.0)\n",
    "            orig_psf_image.array = gaussian_image.array\n",
    "            ## Uncomment the following lines to make the PSF image a point source\n",
    "            #orig_psf_image.array *= 0.\n",
    "            #orig_psf_image.array[20,20] = 1.\n",
    "        \n",
    "        warped_psf = measAlg.WarpedPsf(orig_psf, xyTransform, kernelName='bilinear')\n",
    "        #print(coaddWcs, coaddPsf.getWcs(i))\n",
    "        #print(orig_psf.computeBBox())\n",
    "        print(warped_psf.getAveragePosition())\n",
    "        print(xyTransform.applyForward(orig_psf.getAveragePosition()))\n",
    "        psf_image = warped_psf.computeKernelImage(point)\n",
    "        psf_image_list.append( psf_image )\n",
    " \n",
    "        orig_psf_image_list.append( orig_psf_image )\n",
    "        print( warped_psf.computeKernelImage().getBBox())\n",
    "        psf_weight_list.append( coaddPsf.getWeight(i))\n",
    "        \n",
    "        psf_image_copy = afwImage.ImageD(array=np.zeros_like(psf_image.array), deep=True, xy0=geom.Point2I(0,0))\n",
    "        afwMath.warpImage(destImage=psf_image_copy, srcImage=orig_psf_image_copy, srcToDest=xyTransform, control=wc, padValue=0.0)\n",
    "        psf_image_copy_list.append(psf_image_copy)\n",
    "        \n",
    "        ## Implement the warping in GalSim\n",
    "        jac = xyTransform.getJacobian(calexpPoint)\n",
    "        interp_image = galsim.InterpolatedImage(galsim.Image(orig_psf_image.array, wcs=convertWCS(coaddPsf.getWcs(i))), x_interpolant='linear')\n",
    "        interp_image = interp_image.shift(dx=0,dy=0)\n",
    "        galsim_warped_psf = interp_image.transform(dudx=jac[0,0],dvdy=jac[1,1],dudy=jac[0,1],dvdx=jac[1,0])\n",
    "        galsim_warped_psf_image = galsim_warped_psf.drawImage(image=galsim.Image(ncol=psf_image.array.shape[1],nrow=psf_image.array.shape[0],init_value=0.), method='sb', offset=galsim.PositionD(-0.,-0.), wcs=convertWCS(coaddWcs))\n",
    "        galsim_warped_psf_image_list.append(galsim_warped_psf_image)\n",
    "        \n",
    "        ## Make size measurements\n",
    "        galsim_moments.append( galsim_warped_psf_image.FindAdaptiveMom() )\n",
    "        moments.append( warped_psf.computeShape(point) )\n",
    "        \n",
    "        assert galsim_warped_psf_image.array.shape[0]==psf_image.array.shape[0]\n",
    "        assert galsim_warped_psf_image.array.shape[1]==psf_image.array.shape[1]\n",
    "        \n",
    "        print(convertWCS(coaddPsf.getWcs(i)))\n",
    "        print(jac)\n",
    " "
   ]
  },
  {
   "cell_type": "code",
   "execution_count": null,
   "metadata": {},
   "outputs": [],
   "source": []
  }
 ],
 "metadata": {
  "kernelspec": {
   "display_name": "Python 3",
   "language": "python",
   "name": "python3"
  },
  "language_info": {
   "codemirror_mode": {
    "name": "ipython",
    "version": 3
   },
   "file_extension": ".py",
   "mimetype": "text/x-python",
   "name": "python",
   "nbconvert_exporter": "python",
   "pygments_lexer": "ipython3",
   "version": "3.7.2"
  }
 },
 "nbformat": 4,
 "nbformat_minor": 4
}
