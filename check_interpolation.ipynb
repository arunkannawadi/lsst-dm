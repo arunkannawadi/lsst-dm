{
 "cells": [
  {
   "cell_type": "markdown",
   "metadata": {},
   "source": [
    "# Cross-validating interpolation kernels\n",
    "\n",
    "In order to check if the Lanczos interpolation kernels in GalSim and in the LSST stack are identical, and if not, to understand the differences, we perform a simple check here."
   ]
  },
  {
   "cell_type": "code",
   "execution_count": 1,
   "metadata": {},
   "outputs": [],
   "source": [
    "## Do the imports and call the butler\n",
    "\n",
    "from lsst.daf.persistence import Butler\n",
    "import lsst.geom as geom\n",
    "import lsst.afw.math as afwMath\n",
    "import lsst.afw.image as afwImage\n",
    "import lsst.afw.geom as afwGeom\n",
    "import lsst.meas.algorithms as measAlg\n",
    "\n",
    "import numpy as np\n",
    "import matplotlib.pyplot as plt\n",
    "from matplotlib.colors import LogNorm\n",
    "\n",
    "import galsim"
   ]
  },
  {
   "cell_type": "markdown",
   "metadata": {},
   "source": [
    "Draw a Gaussian image and interpolate to half the pixel size. We first test our implemention, particularly involving flux normalization, pixel origin conventions etc. are consistent between GalSim and LSST stack\n",
    "\n",
    "## Bilinear interpolation"
   ]
  },
  {
   "cell_type": "code",
   "execution_count": 15,
   "metadata": {},
   "outputs": [],
   "source": [
    "gauss = galsim.Gaussian(sigma=3.2)\n",
    "gauss_img = galsim.Image(ncol=41,nrow=41,init_value=4.)\n",
    "#gauss_img = gauss.drawImage(image=gauss_img, method='no_pixel',scale=0.5)\n",
    "gauss_img.scale = 0.5\n",
    "afwExp_array = np.array(gauss_img.array, dtype=np.float64)\n",
    "afwExp = afwImage.ImageD(array=afwExp_array, deep=False, xy0=geom.Point2I(0,0))"
   ]
  },
  {
   "cell_type": "markdown",
   "metadata": {},
   "source": [
    "#### LSST stack implemention"
   ]
  },
  {
   "cell_type": "code",
   "execution_count": 16,
   "metadata": {},
   "outputs": [],
   "source": [
    "lT = geom.AffineTransform(linear=2.*np.eye(2))\n",
    "wc = afwMath.WarpingControl(warpingKernelName='bilinear')\n",
    "destImage = afwImage.ImageD(array=np.zeros((81,81)),deep=False,xy0=geom.Point2I(0,0))\n",
    "_warp = afwMath.warpImage(destImage=destImage, srcImage=afwExp, srcToDest=afwGeom.makeTransform(lT), control=wc)"
   ]
  },
  {
   "cell_type": "markdown",
   "metadata": {},
   "source": [
    "#### GalSim implementation"
   ]
  },
  {
   "cell_type": "code",
   "execution_count": 17,
   "metadata": {},
   "outputs": [
    {
     "data": {
      "text/plain": [
       "galsim.Image(bounds=galsim.BoundsI(xmin=1, xmax=81, ymin=1, ymax=81), array=\n",
       "array([[1., 1., 1., ..., 1., 1., 1.],\n",
       "       [1., 1., 1., ..., 1., 1., 1.],\n",
       "       [1., 1., 1., ..., 1., 1., 1.],\n",
       "       ...,\n",
       "       [1., 1., 1., ..., 1., 1., 1.],\n",
       "       [1., 1., 1., ..., 1., 1., 1.],\n",
       "       [1., 1., 1., ..., 1., 1., 1.]]), wcs=galsim.PixelScale(0.25))"
      ]
     },
     "execution_count": 17,
     "metadata": {},
     "output_type": "execute_result"
    }
   ],
   "source": [
    "gauss_ii = galsim.InterpolatedImage(gauss_img, x_interpolant='linear')\n",
    "gauss_hires = galsim.Image(np.zeros_like(destImage.array))\n",
    "gauss_ii.drawImage(image=gauss_hires, method='no_pixel',scale=0.25)"
   ]
  },
  {
   "cell_type": "code",
   "execution_count": 18,
   "metadata": {},
   "outputs": [],
   "source": [
    "np.testing.assert_array_equal(destImage.array[0:79:2,0:79:2], 0.25*afwExp_array[:-1,:-1])\n",
    "np.testing.assert_array_equal(destImage.array[1:79:2,1:79:2], 0.25*(destImage.array[2:80:2,0:78:2] + destImage.array[2:80:2,2:80:2] + destImage.array[0:78:2,2:80:2] + destImage.array[0:78:2,0:78:2]))\n",
    "\n",
    "np.testing.assert_array_equal(gauss_hires.array[:80,:80], destImage.array[:80,:80])"
   ]
  },
  {
   "cell_type": "markdown",
   "metadata": {},
   "source": [
    "If the above assertions are true, then it indicates that GalSim and LSST stack behaviours are identical, and they also do what we expect them to do. Time to move on to Lanczos kernels\n",
    "\n",
    "## Lanczos interpolation"
   ]
  },
  {
   "cell_type": "code",
   "execution_count": 35,
   "metadata": {},
   "outputs": [],
   "source": [
    "lanczos_order = 3\n",
    "kernel_name = 'lanczos{0}'.format(lanczos_order)\n",
    "x_interpolant = galsim.Lanczos(n=lanczos_order, conserve_dc=True)\n",
    "lT = geom.AffineTransform(linear=2.*np.eye(2))\n",
    "wc = afwMath.WarpingControl(warpingKernelName=kernel_name)\n",
    "destImage = afwImage.ImageD(array=np.zeros((81,81)),deep=False,xy0=geom.Point2I(0,0))\n",
    "_warp = afwMath.warpImage(destImage=destImage, srcImage=afwExp, srcToDest=afwGeom.makeTransform(lT), control=wc)"
   ]
  },
  {
   "cell_type": "code",
   "execution_count": 31,
   "metadata": {},
   "outputs": [],
   "source": [
    "gauss_ii = galsim.InterpolatedImage(gauss_img, x_interpolant=x_interpolant)\n",
    "gauss_hires = galsim.Image(np.zeros_like(destImage.array))\n",
    "gauss_hires = gauss_ii.drawImage(image=gauss_hires, method='no_pixel',scale=0.25)"
   ]
  },
  {
   "cell_type": "code",
   "execution_count": 32,
   "metadata": {},
   "outputs": [
    {
     "name": "stdout",
     "output_type": "stream",
     "text": [
      "arr1 =  [[0.9886296  0.99429855 0.9886296  ... 0.9886296  0.99429855 0.9886296 ]\n",
      " [0.99429855 1.         0.99429855 ... 0.99429855 1.         0.99429855]\n",
      " [0.9886296  0.99429855 0.9886296  ... 0.9886296  0.99429855 0.9886296 ]\n",
      " ...\n",
      " [0.9886296  0.99429855 0.9886296  ... 0.9886296  0.99429855 0.9886296 ]\n",
      " [0.99429855 1.         0.99429855 ... 0.99429855 1.         0.99429855]\n",
      " [0.9886296  0.99429855 0.9886296  ... 0.9886296  0.99429855 0.9886296 ]]\n",
      "arr2 =  [[1. 1. 1. ... 1. 1. 1.]\n",
      " [1. 1. 1. ... 1. 1. 1.]\n",
      " [1. 1. 1. ... 1. 1. 1.]\n",
      " ...\n",
      " [1. 1. 1. ... 1. 1. 1.]\n",
      " [1. 1. 1. ... 1. 1. 1.]\n",
      " [1. 1. 1. ... 1. 1. 1.]]\n",
      "orig =  [[1. 1. 1.]\n",
      " [1. 1. 1.]\n",
      " [1. 1. 1.]]\n",
      "Max values =  1.0 1.0 1.0\n"
     ]
    }
   ],
   "source": [
    "arr1 = gauss_hires.array[5:-5,5:-5]\n",
    "arr2 = destImage.array[5:-5,5:-5]\n",
    "print(\"arr1 = \", arr1)\n",
    "print(\"arr2 = \", arr2)\n",
    "print(\"orig = \", 0.25*gauss_img.array[2:5,2:5])\n",
    "print(\"Max values = \", arr1.max(), np.nanmax(arr2), 0.25*gauss_img.array.max())"
   ]
  },
  {
   "cell_type": "markdown",
   "metadata": {},
   "source": [
    "First, make sure that original pixel values are present in the interpolated images"
   ]
  },
  {
   "cell_type": "code",
   "execution_count": 33,
   "metadata": {},
   "outputs": [],
   "source": [
    "assert arr1.max()==arr2.max()\n",
    "assert arr1.max()==0.25*(gauss_img.array.max())\n",
    "np.testing.assert_array_equal(arr1[15:55:2,15:55:2], 0.25*gauss_img.array[10:30,10:30])\n",
    "np.testing.assert_array_equal(arr2[15:55:2,15:55:2], 0.25*gauss_img.array[10:30,10:30])"
   ]
  },
  {
   "cell_type": "markdown",
   "metadata": {},
   "source": [
    "Let us look at the difference images, only at the interpolated points"
   ]
  },
  {
   "cell_type": "code",
   "execution_count": 34,
   "metadata": {},
   "outputs": [
    {
     "data": {
      "text/plain": [
       "<matplotlib.colorbar.Colorbar at 0x7fb350ee6630>"
      ]
     },
     "execution_count": 34,
     "metadata": {},
     "output_type": "execute_result"
    },
    {
     "data": {
      "image/png": "[encoded data removed]",
      "text/plain": [
       "<Figure size 432x288 with 2 Axes>"
      ]
     },
     "metadata": {
      "needs_background": "light"
     },
     "output_type": "display_data"
    }
   ],
   "source": [
    "fig, ax = plt.subplots()\n",
    "diff_im = arr1 - arr2\n",
    "_im = ax.imshow(diff_im[::2,::2])\n",
    "fig.colorbar(_im,ax=ax)"
   ]
  },
  {
   "cell_type": "markdown",
   "metadata": {},
   "source": [
    "If the difference image traced the profile, there is likely a normalization factor difference. Let's calculate the ratio of the pixel values"
   ]
  },
  {
   "cell_type": "code",
   "execution_count": 26,
   "metadata": {},
   "outputs": [
    {
     "name": "stdout",
     "output_type": "stream",
     "text": [
      "Min =  0.9999965966876825 ; Max =  0.9999965966876825 : Std. Dev =  0.0\n"
     ]
    },
    {
     "data": {
      "image/png": "[encoded data removed]",
      "text/plain": [
       "<Figure size 432x288 with 2 Axes>"
      ]
     },
     "metadata": {
      "needs_background": "light"
     },
     "output_type": "display_data"
    }
   ],
   "source": [
    "ratio_im = arr1[::2,::2]/arr2[::2,::2]\n",
    "fig, ax = plt.subplots()\n",
    "_im = ax.imshow(ratio_im)\n",
    "_cbar = fig.colorbar(_im,ax=ax)\n",
    "print(\"Min = \", ratio_im.min(), \"; Max = \", ratio_im.max(), \": Std. Dev = \", ratio_im.std())\n",
    "norm_ratio = (arr1[::2,::2]/arr2[::2,::2]).mean()"
   ]
  },
  {
   "cell_type": "markdown",
   "metadata": {},
   "source": [
    "The ratio is almost constant, and is close to unity. The fluctuations are likely due to numerical artifacts. We adopt the mean of the ratio as the fudge factor.\n",
    "\n",
    "Is the value of the fudge factor independent of the profile drawn?"
   ]
  },
  {
   "cell_type": "code",
   "execution_count": 27,
   "metadata": {},
   "outputs": [
    {
     "data": {
      "text/plain": [
       "(0.7650405677664603, 0.7497025580011898)"
      ]
     },
     "execution_count": 27,
     "metadata": {},
     "output_type": "execute_result"
    }
   ],
   "source": [
    "arr2.sum()/gauss_hires.array.sum(), arr2.sum()/gauss_img.array.sum()"
   ]
  },
  {
   "cell_type": "code",
   "execution_count": 28,
   "metadata": {},
   "outputs": [
    {
     "data": {
      "text/plain": [
       "8540482530161978.0"
      ]
     },
     "execution_count": 28,
     "metadata": {},
     "output_type": "execute_result"
    }
   ],
   "source": [
    "a = lanczos_order\n",
    "L1 = lambda x: np.sin(x)*np.sin(x/a) if np.abs(x)<a else 0\n",
    "L2 = lambda x: a*np.sin(np.pi*x)*np.sin(np.pi*x/a)/(np.pi*x)**2 if np.abs(x)<a else 0\n",
    "\n",
    "L1(1)/L2(1)"
   ]
  },
  {
   "cell_type": "code",
   "execution_count": 29,
   "metadata": {},
   "outputs": [
    {
     "name": "stdout",
     "output_type": "stream",
     "text": [
      "Midpoint:  (33950, 30000)\n",
      "Bounding box of the coadd:  (minimum=(31900, 27900), maximum=(35999, 32099))\n",
      "WCS of the coadd:  FITS standard SkyWcs:\n",
      "Sky Origin: (343.703704, +0.743802)\n",
      "Pixel Origin: (17999, 17999)\n",
      "Pixel Scale: 0.168 arcsec/pixel\n",
      "<class 'lsst.afw.image.image.image.ImageD'>\n",
      "(35408, 30089)\n",
      "(35408, 30089)\n",
      "(minimum=(-20, -20), maximum=(20, 20))\n",
      "galsim.PixelScale(0.1589329010249938)\n",
      "[[ 0.01646739  0.97657136]\n",
      " [-0.94624606 -0.01622149]]\n",
      "<class 'lsst.afw.image.image.image.ImageD'>\n",
      "(35868, 29231)\n",
      "(35868, 29231)\n",
      "(minimum=(-20, -20), maximum=(20, 20))\n",
      "galsim.PixelScale(0.15849030076714887)\n",
      "[[-0.02496888 -0.96238701]\n",
      " [ 0.94606889  0.0247067 ]]\n",
      "<class 'lsst.afw.image.image.image.ImageD'>\n",
      "(34061, 29707)\n",
      "(34061, 29707)\n",
      "(minimum=(-20, -20), maximum=(20, 20))\n",
      "galsim.PixelScale(0.15906249041076695)\n",
      "[[-0.01669348  0.95780331]\n",
      " [-0.97605498  0.0175997 ]]\n",
      "<class 'lsst.afw.image.image.image.ImageD'>\n",
      "(32656, 30183)\n",
      "(32656, 30183)\n",
      "(minimum=(-21, -21), maximum=(21, 21))\n",
      "galsim.PixelScale(0.15840316880747882)\n",
      "[[-8.14401463e-04 -1.00110070e+00]\n",
      " [ 1.00348873e+00 -1.31966224e-03]]\n",
      "<class 'lsst.afw.image.image.image.ImageD'>\n",
      "(34683, 30040)\n",
      "(34683, 30040)\n",
      "(minimum=(-20, -20), maximum=(20, 20))\n",
      "galsim.PixelScale(0.16124775672414413)\n",
      "[[-0.0173617   0.9741043 ]\n",
      " [-0.96097477  0.01853751]]\n",
      "<class 'lsst.afw.image.image.image.ImageD'>\n",
      "(33460, 30157)\n",
      "(33460, 30157)\n",
      "(minimum=(-19, -20), maximum=(19, 20))\n",
      "galsim.PixelScale(0.1582698523984258)\n",
      "[[ 1.13747519e-03  9.29699466e-01]\n",
      " [-9.80906183e-01 -5.54905362e-04]]\n"
     ]
    }
   ],
   "source": [
    "butler = Butler(\"/datasets/hsc/repo/rerun/private/kannawad/RC2/w_2019_44_demo_lanczos5/\")\n",
    "\n",
    "## Set some parameters\n",
    "dataId = {'tract':9701, 'patch':'8,7', 'filter':'HSC-I'}\n",
    "deepCoadd = butler.get(\"deepCoadd\", dataId)\n",
    "\n",
    "## Define the interpolation kernel\n",
    "x_interpolant = \"lanczos5\"\n",
    "\n",
    "coaddPsf = deepCoadd.getPsf()\n",
    "coaddWcs = deepCoadd.getWcs()\n",
    "bbox = deepCoadd.getBBox()\n",
    "\n",
    "## Pick the midpoint of the coadd to compute the PSF there\n",
    "point = geom.Point2D(0.5*(bbox.x.min+bbox.x.max), 0.5*(bbox.y.min+bbox.y.max))\n",
    "print(\"Midpoint: \", point)\n",
    "assert bbox.contains(geom.Point2I(point))\n",
    "\n",
    "print(\"Bounding box of the coadd: \", bbox)\n",
    "print(\"WCS of the coadd: \", coaddWcs)\n",
    "\n",
    "## A set of convenience functions to convert an LSST WCS instance to an equivalent GalSim WCS instance\n",
    "def convertWCS_radec(lsstWCS):\n",
    "    ## A callable function using the LSST WCS that maps image coordinates to world/sky coordinates \n",
    "    def radecfunc(x,y):\n",
    "        imgPoint = geom.Point2D(x,y)\n",
    "        skyPoint = lsstWCS.pixelToSky(imgPoint)\n",
    "        return skyPoint.getRa().asRadians(), skyPoint.getDec().asRadians()\n",
    "\n",
    "    galsimWCS = galsim.RaDecFunction(ra_func=radecfunc)\n",
    "    return galsimWCS\n",
    "\n",
    "def convertWCS_pixelscale(lsstWCS):\n",
    "    galsimWCS = galsim.PixelScale(lsstWCS.getPixelScale().asArcseconds())\n",
    "    return galsimWCS\n",
    "\n",
    "## Define an alias to whichever function you want to choose\n",
    "convertWCS = convertWCS_pixelscale\n",
    "\n",
    "# Generate the warpedPSF explicitly, and compare with that from the LSST stack\n",
    "\n",
    "coaddWcs = deepCoadd.getWcs()\n",
    "component_list = [ ]\n",
    "xyTransform_list = [ ]\n",
    "orig_psf_image_list = [ ]\n",
    "orig_psf_image_copy_list = [ ]\n",
    "galsim_warped_psf_image_list = [ ]\n",
    "galsim_moments =  [ ]\n",
    "moments = [ ]\n",
    "psf_image_list = [ ]\n",
    "psf_image_copy_list = [ ]\n",
    "psf_weight_list = [ ]\n",
    "\n",
    "wc = afwMath.WarpingControl(warpingKernelName='bilinear')\n",
    "\n",
    "for i in range(coaddPsf.getComponentCount()):\n",
    "    calexpPoint = deepCoadd.getPsf().getWcs(i).skyToPixel(coaddWcs.pixelToSky(geom.Point2D(point)))\n",
    "    if deepCoadd.getPsf().getValidPolygon(i).contains(calexpPoint):\n",
    "        component_list.append(i)\n",
    "        #print(coaddPsf.computeBBox())\n",
    "        xyTransform = afwGeom.makeWcsPairTransform(coaddPsf.getWcs(i), coaddWcs)\n",
    "        xyTransform_list.append(xyTransform)\n",
    "        orig_psf = coaddPsf.getPsf(i)\n",
    "        orig_psf_image = orig_psf.computeKernelImage(xyTransform.applyInverse(point))\n",
    "        orig_psf_image_copy = afwImage.ImageD(array=orig_psf_image.array, deep=True, xy0=geom.Point2I(0,0))\n",
    "        print(type(orig_psf_image_copy))\n",
    "        ## Modify the pixel values of orig_psf_image to see what the warping functions do\n",
    "        if False:\n",
    "            \n",
    "            gaussian_image = galsim.Image(orig_psf_image.array)\n",
    "            gaussian_image = galsim.Gaussian(sigma=3.2).drawImage(image=gaussian_image, scale=1.0)\n",
    "            orig_psf_image.array = gaussian_image.array\n",
    "            ## Uncomment the following lines to make the PSF image a point source\n",
    "            #orig_psf_image.array *= 0.\n",
    "            #orig_psf_image.array[20,20] = 1.\n",
    "        \n",
    "        warped_psf = measAlg.WarpedPsf(orig_psf, xyTransform, kernelName='bilinear')\n",
    "        #print(coaddWcs, coaddPsf.getWcs(i))\n",
    "        #print(orig_psf.computeBBox())\n",
    "        print(warped_psf.getAveragePosition())\n",
    "        print(xyTransform.applyForward(orig_psf.getAveragePosition()))\n",
    "        psf_image = warped_psf.computeKernelImage(point)\n",
    "        psf_image_list.append( psf_image )\n",
    " \n",
    "        orig_psf_image_list.append( orig_psf_image )\n",
    "        print( warped_psf.computeKernelImage().getBBox())\n",
    "        psf_weight_list.append( coaddPsf.getWeight(i))\n",
    "        \n",
    "        psf_image_copy = afwImage.ImageD(array=np.zeros_like(psf_image.array), deep=True, xy0=geom.Point2I(0,0))\n",
    "        afwMath.warpImage(destImage=psf_image_copy, srcImage=orig_psf_image_copy, srcToDest=xyTransform, control=wc, padValue=0.0)\n",
    "        psf_image_copy_list.append(psf_image_copy)\n",
    "        \n",
    "        ## Implement the warping in GalSim\n",
    "        jac = xyTransform.getJacobian(calexpPoint)\n",
    "        interp_image = galsim.InterpolatedImage(galsim.Image(orig_psf_image.array, wcs=convertWCS(coaddPsf.getWcs(i))), x_interpolant='linear')\n",
    "        interp_image = interp_image.shift(dx=0,dy=0)\n",
    "        galsim_warped_psf = interp_image.transform(dudx=jac[0,0],dvdy=jac[1,1],dudy=jac[0,1],dvdx=jac[1,0])\n",
    "        galsim_warped_psf_image = galsim_warped_psf.drawImage(image=galsim.Image(ncol=psf_image.array.shape[1],nrow=psf_image.array.shape[0],init_value=0.), method='sb', offset=galsim.PositionD(-0.,-0.), wcs=convertWCS(coaddWcs))\n",
    "        galsim_warped_psf_image_list.append(galsim_warped_psf_image)\n",
    "        \n",
    "        ## Make size measurements\n",
    "        galsim_moments.append( galsim_warped_psf_image.FindAdaptiveMom() )\n",
    "        moments.append( warped_psf.computeShape(point) )\n",
    "        \n",
    "        assert galsim_warped_psf_image.array.shape[0]==psf_image.array.shape[0]\n",
    "        assert galsim_warped_psf_image.array.shape[1]==psf_image.array.shape[1]\n",
    "        \n",
    "        print(convertWCS(coaddPsf.getWcs(i)))\n",
    "        print(jac)\n",
    " "
   ]
  },
  {
   "cell_type": "code",
   "execution_count": null,
   "metadata": {},
   "outputs": [],
   "source": []
  }
 ],
 "metadata": {
  "kernelspec": {
   "display_name": "Python 3",
   "language": "python",
   "name": "python3"
  },
  "language_info": {
   "codemirror_mode": {
    "name": "ipython",
    "version": 3
   },
   "file_extension": ".py",
   "mimetype": "text/x-python",
   "name": "python",
   "nbconvert_exporter": "python",
   "pygments_lexer": "ipython3",
   "version": "3.7.2"
  }
 },
 "nbformat": 4,
 "nbformat_minor": 4
}
