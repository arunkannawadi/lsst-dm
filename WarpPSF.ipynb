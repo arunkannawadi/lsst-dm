{
 "cells": [
  {
   "cell_type": "markdown",
   "metadata": {},
   "source": [
    "In this Notebook, we try to warp the PSF with LSST stack and GalSim"
   ]
  },
  {
   "cell_type": "code",
   "execution_count": 73,
   "metadata": {},
   "outputs": [
    {
     "data": {
      "text/plain": [
       "42.96324891551814"
      ]
     },
     "execution_count": 73,
     "metadata": {},
     "output_type": "execute_result"
    }
   ],
   "source": [
    "coaddPsf.getWeight(4)"
   ]
  },
  {
   "cell_type": "markdown",
   "metadata": {},
   "source": [
    "#### Table of contents\n",
    "\n",
    "- [Some convenience functions](#Some-convenience-functions) (not of generic interest)\n",
    "- [The cell where everything happens](#The-cell-where-everything-happens)\n",
    "- [Reproducing the coaddPSF outside the LSST stack](#Reproducing-the-coaddPSF-outside-the-LSST-stack)\n",
    "- [Warping PSF images with GalSim and LSST stack](#Warping-PSF-images-with-GalSim-and-LSST-stack)\n",
    "- [Checking interpolation kernel with GalSim](#Checking-interpolation-kernel-with-GalSim)\n",
    "- [Conclusions](#Conclusions)"
   ]
  },
  {
   "cell_type": "code",
   "execution_count": 4,
   "metadata": {},
   "outputs": [],
   "source": [
    "## Do the imports and call the butler\n",
    "\n",
    "from lsst.daf.persistence import Butler\n",
    "import lsst.geom as geom\n",
    "import lsst.afw.math as afwMath\n",
    "import lsst.afw.image as afwImage\n",
    "import lsst.afw.geom as afwGeom\n",
    "import lsst.meas.algorithms as measAlg\n",
    "\n",
    "import numpy as np\n",
    "import matplotlib.pyplot as plt\n",
    "from matplotlib.colors import LogNorm\n",
    "\n",
    "import galsim\n",
    "\n",
    "butler = Butler(\"/datasets/hsc/repo/rerun/private/kannawad/RC2/w_2019_44_demo_L5/\")"
   ]
  },
  {
   "cell_type": "markdown",
   "metadata": {},
   "source": [
    "Get the coadded PSF for one {tract,patch,filter} and focus on the PSF at the center of the coadd"
   ]
  },
  {
   "cell_type": "code",
   "execution_count": 5,
   "metadata": {},
   "outputs": [
    {
     "name": "stdout",
     "output_type": "stream",
     "text": [
      "Midpoint:  (33950, 30000)\n",
      "Bounding box of the coadd:  (minimum=(31900, 27900), maximum=(35999, 32099))\n",
      "WCS of the coadd:  FITS standard SkyWcs:\n",
      "Sky Origin: (343.703704, +0.743802)\n",
      "Pixel Origin: (17999, 17999)\n",
      "Pixel Scale: 0.168 arcsec/pixel\n"
     ]
    }
   ],
   "source": [
    "## Define the interpolation kernel\n",
    "x_interpolant = \"lanczos5\"\n",
    "\n",
    "## Set some parameters\n",
    "dataId = {'tract':9701, 'patch':'8,7', 'filter':'HSC-I'}\n",
    "deepCoadd = butler.get(\"deepCoadd\", dataId)\n",
    "\n",
    "bbox = deepCoadd.getBBox()\n",
    "\n",
    "## Pick the midpoint of the coadd to compute the PSF there\n",
    "point = geom.Point2D(0.5*(bbox.x.min+bbox.x.max), 0.5*(bbox.y.min+bbox.y.max))\n",
    "print(\"Midpoint: \", point)\n",
    "assert bbox.contains(geom.Point2I(point))\n",
    "print(\"Bounding box of the coadd: \", bbox)\n",
    "\n",
    "coaddPsf = deepCoadd.getPsf()\n",
    "coaddPsfIm = coaddPsf.computeKernelImage(geom.Point2D(point))\n",
    "coaddWcs = deepCoadd.getWcs()\n",
    "print(\"WCS of the coadd: \", coaddWcs)"
   ]
  },
  {
   "cell_type": "markdown",
   "metadata": {},
   "source": [
    "#### Some convenience functions"
   ]
  },
  {
   "cell_type": "code",
   "execution_count": 37,
   "metadata": {},
   "outputs": [],
   "source": [
    "def FindMom(self):\n",
    "    # returns the centroid and the 'standard deviation', sigma.\n",
    "    im = self.view()\n",
    "    im.setOrigin(0,0)\n",
    "    origin = galsim.PositionD(x=self.origin.x,y=self.origin.y)\n",
    "    #nrows, ncols = im.array.shape\n",
    "    ncols, nrows = im.array.shape\n",
    "    M0 = im.array.sum() # zero-th order moment\n",
    "    # 1/M0 will be the uniform weight so that the sizes don't scale with the overall brightness of the image\n",
    "    x = np.linspace(0,ncols-1,ncols)\n",
    "    y = np.linspace(0,nrows-1,nrows)\n",
    "    Sx = im.array.sum(1) # sum along y-axis\n",
    "    Sy = im.array.sum(0) # sum along x-axis\n",
    "    # Centroid\n",
    "    x1 = np.dot(x,Sx)/M0\n",
    "    y1 = np.dot(y,Sy)/M0\n",
    "    M1 = galsim.PositionD(x=x1,y=y1)\n",
    "    # Second moments\n",
    "    Mxx = 1.0*np.dot((x-x1)**2,Sx)/M0\n",
    "    Myy = 1.0*np.dot((y-y1)**2,Sy)/M0\n",
    "    Mxy = 1.0*(x-x1).dot((im.array).dot(y-y1))/M0\n",
    "    M2 = np.array([[Mxx,Mxy],[Mxy,Myy]])\n",
    "    detM2 = Mxx*Myy - Mxy**2\n",
    "    return M1+origin, M2, detM2**0.25\n",
    "\n",
    "galsim.Image.FindMom = FindMom\n",
    "\n",
    "def getTraceRadius(M2):\n",
    "    Mxx = M2[0,0]\n",
    "    Myy = M2[1,1]\n",
    "    Mxy = M2[1,0]\n",
    "    assert M2[1,0]==M2[0,1]\n",
    "    \n",
    "    return np.sqrt(0.5*(Mxx+Myy))\n",
    "\n",
    "def determinant(jac):\n",
    "    return jac[0,0]*jac[1,1] - jac[0,1]*jac[1,0]"
   ]
  },
  {
   "cell_type": "markdown",
   "metadata": {},
   "source": [
    "A set of convenience functions to convert an LSST WCS instance to an equivalent GalSim WCS instance"
   ]
  },
  {
   "cell_type": "code",
   "execution_count": 20,
   "metadata": {},
   "outputs": [],
   "source": [
    "def rotate_jacobian(jac):\n",
    "    ## Swap the axes for convention agreement \n",
    "    T = jac.copy()\n",
    "    T[1,:] = jac[0,:]\n",
    "    T[0,:] = jac[1,:] # -\n",
    "    return T\n",
    "\n",
    "def convertWCS_radec(lsstWCS, randomPoint):\n",
    "    ## A callable function using the LSST WCS that maps image coordinates to world/sky coordinates \n",
    "    def radecfunc(x,y):\n",
    "        imgPoint = geom.Point2D(x,y)\n",
    "        skyPoint = lsstWCS.pixelToSky(imgPoint)\n",
    "        return skyPoint.getRa().asRadians(), skyPoint.getDec().asRadians()\n",
    "\n",
    "    galsimWCS = galsim.RaDecFunction(ra_func=radecfunc)\n",
    "    return galsimWCS\n",
    "\n",
    "def convertWCS_pixelscale(lsstWCS, randomPoint):\n",
    "    galsimWCS = galsim.PixelScale(lsstWCS.getPixelScale().asArcseconds())\n",
    "    return galsimWCS\n",
    "\n",
    "def convertWCS_affine(lsstWCS, point):\n",
    "    skyPoint = lsstWCS.pixelToSky(geom.Point2D(point))\n",
    "    affine = afwGeom.makeTransform( lsstWCS.linearizePixelToSky(skyPoint, geom.arcseconds) )\n",
    "    jac = affine.getJacobian(point) #* (3600.*180./np.pi)\n",
    "    galjac = rotate_jacobian(jac)\n",
    "    galsimWCS = galsim.AffineTransform(galjac[0,0], galjac[0,1], galjac[1,0], galjac[1,1])\n",
    "    return galsimWCS\n",
    "    \n",
    "## Define an alias to whichever function you want to choose\n",
    "convertWCS = convertWCS_affine"
   ]
  },
  {
   "cell_type": "markdown",
   "metadata": {},
   "source": [
    "#### The cell where everything happens\n",
    "\n",
    "We do quite a few things in the cell below.\n",
    "- Find the corresponding point in the individual calexps (that contribute to that point in the coadd)\n",
    "- Get the PSF for the calexps at that point\n",
    "- Implement the warp using LSST stack tools (but outside the stack) to reproduce the coadded PSF\n",
    "- Implement the same using GalSim"
   ]
  },
  {
   "cell_type": "code",
   "execution_count": 77,
   "metadata": {},
   "outputs": [
    {
     "name": "stdout",
     "output_type": "stream",
     "text": [
      "CPU times: user 3 µs, sys: 0 ns, total: 3 µs\n",
      "Wall time: 7.39 µs\n",
      "Trans T =  [[ 0.01646739  0.97657136]\n",
      " [-0.94624606 -0.01622149]]\n",
      "Trans T =  [[-0.02496888 -0.96238701]\n",
      " [ 0.94606889  0.0247067 ]]\n",
      "Trans T =  [[-0.01669348  0.95780331]\n",
      " [-0.97605498  0.0175997 ]]\n",
      "Trans T =  [[-8.14401463e-04 -1.00110070e+00]\n",
      " [ 1.00348873e+00 -1.31966224e-03]]\n",
      "Trans T =  [[-0.0173617   0.9741043 ]\n",
      " [-0.96097477  0.01853751]]\n",
      "Trans T =  [[ 1.13747519e-03  9.29699466e-01]\n",
      " [-9.80906183e-01 -5.54905362e-04]]\n"
     ]
    }
   ],
   "source": [
    "## Generate the warpedPSF explicitly, and compare with that from the LSST stack\n",
    "%time\n",
    "\n",
    "## Declare various lists to store the various warp quantities\n",
    "component_list = [ ]\n",
    "xyTransform_list = [ ]\n",
    "orig_psf_image_list = [ ]\n",
    "orig_psf_image_copy_list = [ ]\n",
    "galsim_warped_psf_image_list = [ ]\n",
    "galsim_moments =  [ ]\n",
    "moments = [ ]\n",
    "psf_image_list = [ ]\n",
    "psf_image_copy_list = [ ]\n",
    "psf_weight_list = [ ]\n",
    "\n",
    "## Define the warping control explicitly\n",
    "wc = afwMath.WarpingControl(warpingKernelName=x_interpolant, interpLength=10)\n",
    "\n",
    "for i in range(coaddPsf.getComponentCount()):\n",
    "    ## Get the point in the calexp corresponding to the chosen point on the codd, which is its center\n",
    "    calexpPoint = deepCoadd.getPsf().getWcs(i).skyToPixel(coaddWcs.pixelToSky(geom.Point2D(point)))\n",
    "    if deepCoadd.getPsf().getValidPolygon(i).contains(calexpPoint):\n",
    "        component_list.append(i)\n",
    "        xyTransform = afwGeom.makeWcsPairTransform(coaddPsf.getWcs(i), coaddWcs)\n",
    "        xyTransform_list.append(xyTransform)\n",
    "        orig_psf = coaddPsf.getPsf(i)\n",
    "        orig_psf_image = orig_psf.computeKernelImage(xyTransform.applyInverse(point))\n",
    "        orig_psf_image_copy = afwImage.ImageD(array=orig_psf_image.array, deep=True, xy0=geom.Point2I(0,0))\n",
    "        orig_psf_image_list.append( orig_psf_image )\n",
    "\n",
    "\n",
    "        ## Modify the pixel values of orig_psf_image to see what the warping functions do\n",
    "        \n",
    "        ## Set it to True to make the PSF image a Gaussian one\n",
    "        if False:\n",
    "            gaussian_image = galsim.Image(orig_psf_image.array)\n",
    "            gaussian_image = galsim.Gaussian(sigma=3.2).drawImage(image=gaussian_image, scale=1.0)\n",
    "            orig_psf_image.array = gaussian_image.array\n",
    "            \n",
    "        ## Set it to True to make the PSF image a point source\n",
    "        if False:\n",
    "            orig_psf_image.array *= 0.\n",
    "            orig_psf_image.array[20,20] = 1.\n",
    "        \n",
    "        ## Implement the warping using LSST stack tools\n",
    "        warped_psf = measAlg.WarpedPsf(orig_psf, xyTransform, kernelName=x_interpolant)\n",
    "        psf_image = warped_psf.computeKernelImage(point)\n",
    "        psf_image_list.append( psf_image )\n",
    " \n",
    "        ## Save the weights to combine them to a coadd\n",
    "        psf_weight_list.append( coaddPsf.getWeight(i) )\n",
    "        \n",
    "        psf_image_copy = afwImage.ImageD(array=np.zeros_like(psf_image.array), deep=True, xy0=geom.Point2I(0,0))\n",
    "        afwMath.warpImage(destImage=psf_image_copy, srcImage=orig_psf_image, srcToDest=xyTransform, control=wc, padValue=0.0)\n",
    "        psf_image_copy_list.append(psf_image_copy)\n",
    "        \n",
    "        ## Create a galsim.Image instance of the PSf image\n",
    "        galsimWCS = convertWCS(coaddPsf.getWcs(i), calexpPoint)\n",
    "        interp_image = galsim.InterpolatedImage(galsim.Image(orig_psf_image.array, wcs=galsimWCS), x_interpolant=x_interpolant)\n",
    "        ## Shift the image if there are differences in center pixel convenetions\n",
    "        interp_image = interp_image.shift(dx=0*0.5*0.168,dy=0*0.5*0.168)\n",
    "        \n",
    "        ## Implement the warping in GalSim\n",
    "        jac = xyTransform.getJacobian(calexpPoint)\n",
    "        T = jac ## T is the transformation matrix\n",
    "        print(\"Trans T = \", T)\n",
    "        T = rotate_jacobian(jac) ## T is the transformation matrix\n",
    "        \n",
    "        galsim_warped_psf = interp_image.transform(dudx=T[0,0],dvdy=T[1,1],dudy=T[0,1],dvdx=T[1,0])\n",
    "        galsim_warped_psf_image = galsim_warped_psf.drawImage(image=galsim.Image(ncol=psf_image.array.shape[1],nrow=psf_image.array.shape[0],init_value=0.), method='sb', offset=galsim.PositionD(-0.,-0.), wcs=convertWCS(coaddWcs,point))\n",
    "        galsim_warped_psf_image_list.append(galsim_warped_psf_image)\n",
    "        \n",
    "        ## Make size measurements\n",
    " #       galsim_moments.append( galsim_warped_psf_image.FindAdaptiveMom() )\n",
    " #       moments.append( warped_psf.computeShape(point) )\n",
    "        \n",
    "        ## Some consistency checks\n",
    "        assert galsim_warped_psf_image.array.shape[0]==psf_image.array.shape[0]\n",
    "        assert galsim_warped_psf_image.array.shape[1]==psf_image.array.shape[1]"
   ]
  },
  {
   "cell_type": "markdown",
   "metadata": {},
   "source": [
    "Perform the coaddition, which is simply a linear combination of the warps. For reasons unknown to me, not all PSF images are 41x41 pixels as they should have been(?). So combining them in a messy way."
   ]
  },
  {
   "cell_type": "code",
   "execution_count": 17,
   "metadata": {},
   "outputs": [
    {
     "name": "stderr",
     "output_type": "stream",
     "text": [
      "/software/lsstsw/stack_20200220/python/miniconda3-4.7.12/envs/lsst-scipipe/lib/python3.7/site-packages/ipykernel_launcher.py:11: RuntimeWarning: invalid value encountered in true_divide\n",
      "  # This is added back by InteractiveShellApp.init_path()\n",
      "/software/lsstsw/stack_20200220/python/miniconda3-4.7.12/envs/lsst-scipipe/lib/python3.7/site-packages/ipykernel_launcher.py:14: RuntimeWarning: invalid value encountered in true_divide\n",
      "  \n",
      "/software/lsstsw/stack_20200220/python/miniconda3-4.7.12/envs/lsst-scipipe/lib/python3.7/site-packages/ipykernel_launcher.py:8: RuntimeWarning: invalid value encountered in true_divide\n",
      "  \n"
     ]
    }
   ],
   "source": [
    "## Using a hacky+messy way to combine the warps so that the image sizes are the same\n",
    "newCoaddPsfIm = np.zeros_like(psf_image_list[3].array)\n",
    "newCoaddPsfIm_copy = np.zeros_like(newCoaddPsfIm)\n",
    "for i in range(len(psf_image_list)):\n",
    "    psfim = psf_image_list[i]\n",
    "    if psfim.array.shape[1] == 39: ## HACK\n",
    "        newCoaddPsfIm[1:-1,2:-2] += psf_weight_list[i]*psf_image_list[i].array/psf_image_list[i].array.sum()\n",
    "        newCoaddPsfIm_copy[1:-1,2:-2] += psf_weight_list[i]*psf_image_copy_list[i].array/psf_image_copy_list[i].array.sum()\n",
    "    elif psfim.array.shape[1] == 41:\n",
    "        newCoaddPsfIm[1:-1,1:-1] += psf_weight_list[i]*psf_image_list[i].array/psf_image_list[i].array.sum()\n",
    "        newCoaddPsfIm_copy[1:-1,1:-1] += psf_weight_list[i]*psf_image_copy_list[i].array/psf_image_copy_list[i].array.sum()\n",
    "    else:\n",
    "        newCoaddPsfIm += psf_weight_list[i]*psf_image_list[i].array/psf_image_list[i].array.sum()\n",
    "        newCoaddPsfIm_copy += psf_weight_list[i]*psf_image_copy_list[i].array/psf_image_copy_list[i].array.sum()\n",
    "newCoaddPsfIm /= np.sum(psf_weight_list)\n",
    "newCoaddPsfIm_copy /= np.sum(psf_weight_list)"
   ]
  },
  {
   "cell_type": "markdown",
   "metadata": {},
   "source": [
    "#### Reproducing the coaddPSF outside the LSST stack\n",
    "\n",
    "We show that we recover the coadded PSF from the individual PSFs processed with the LSST stack tools"
   ]
  },
  {
   "cell_type": "code",
   "execution_count": 18,
   "metadata": {},
   "outputs": [
    {
     "data": {
      "text/plain": [
       "<matplotlib.colorbar.Colorbar at 0x7f241919c0b8>"
      ]
     },
     "execution_count": 18,
     "metadata": {},
     "output_type": "execute_result"
    },
    {
     "data": {
      "image/png": "[encoded data removed]",
      "text/plain": [
       "<Figure size 1152x576 with 6 Axes>"
      ]
     },
     "metadata": {
      "needs_background": "light"
     },
     "output_type": "display_data"
    }
   ],
   "source": [
    "fig, ax = plt.subplots(1,3)\n",
    "fig.set_size_inches(16,8)\n",
    "_im = ax[0].imshow(newCoaddPsfIm)\n",
    "fig.colorbar(_im,ax=ax[0],orientation='horizontal')\n",
    "_im = ax[1].imshow(coaddPsfIm.array)\n",
    "fig.colorbar(_im,ax=ax[1],orientation='horizontal')\n",
    "diff_im = newCoaddPsfIm - coaddPsfIm.array\n",
    "_im = ax[2].imshow(diff_im)\n",
    "fig.colorbar(_im,ax=ax[2],orientation='horizontal')"
   ]
  },
  {
   "cell_type": "markdown",
   "metadata": {},
   "source": [
    "## Warping PSF images with GalSim and LSST stack\n",
    "\n",
    "Now that we are confident of our implementation outside of our stack, we compare the PSFs from GalSim implementation with that of LSST implementation"
   ]
  },
  {
   "cell_type": "code",
   "execution_count": 19,
   "metadata": {
    "scrolled": true
   },
   "outputs": [
    {
     "name": "stderr",
     "output_type": "stream",
     "text": [
      "/software/lsstsw/stack_20200220/python/miniconda3-4.7.12/envs/lsst-scipipe/lib/python3.7/site-packages/ipykernel_launcher.py:9: RuntimeWarning: invalid value encountered in true_divide\n",
      "  if __name__ == '__main__':\n",
      "/software/lsstsw/stack_20200220/python/miniconda3-4.7.12/envs/lsst-scipipe/lib/python3.7/site-packages/ipykernel_launcher.py:10: RuntimeWarning: invalid value encountered in greater\n",
      "  # Remove the CWD from sys.path while we load stuff.\n",
      "/software/lsstsw/stack_20200220/python/miniconda3-4.7.12/envs/lsst-scipipe/lib/python3.7/site-packages/ipykernel_launcher.py:10: RuntimeWarning: invalid value encountered in less\n",
      "  # Remove the CWD from sys.path while we load stuff.\n"
     ]
    },
    {
     "name": "stdout",
     "output_type": "stream",
     "text": [
      "Ratio of max:  35.55415399937166\n",
      "Ratio of max:  32.76044464111326\n",
      "Ratios of max to sum: 0.07614802 0.0701645994161541\n",
      "GalSim trace radius =  2.36289860229258\n",
      "LSST trace radius =  2.4618928827910276\n"
     ]
    },
    {
     "data": {
      "image/png": "[encoded data removed]",
      "text/plain": [
       "<Figure size 1152x576 with 8 Axes>"
      ]
     },
     "metadata": {
      "needs_background": "light"
     },
     "output_type": "display_data"
    },
    {
     "name": "stderr",
     "output_type": "stream",
     "text": [
      "/software/lsstsw/stack_20200220/python/miniconda3-4.7.12/envs/lsst-scipipe/lib/python3.7/site-packages/ipykernel_launcher.py:9: RuntimeWarning: divide by zero encountered in true_divide\n",
      "  if __name__ == '__main__':\n"
     ]
    },
    {
     "name": "stdout",
     "output_type": "stream",
     "text": [
      "Ratio of max:  35.56560760706293\n",
      "Ratio of max:  32.22973632812493\n",
      "Ratios of max to sum: 0.10394859 0.09419874777963791\n",
      "GalSim trace radius =  1.859486835220834\n",
      "LSST trace radius =  1.961478284915363\n"
     ]
    },
    {
     "data": {
      "image/png": "[encoded data removed]",
      "text/plain": [
       "<Figure size 1152x576 with 8 Axes>"
      ]
     },
     "metadata": {
      "needs_background": "light"
     },
     "output_type": "display_data"
    },
    {
     "name": "stdout",
     "output_type": "stream",
     "text": [
      "Ratio of max:  35.566573134526905\n",
      "Ratio of max:  33.18258666992177\n",
      "Ratios of max to sum: 0.08394656 0.07831972379381966\n",
      "GalSim trace radius =  2.195402008684655\n",
      "LSST trace radius =  2.2739456831937974\n"
     ]
    },
    {
     "data": {
      "image/png": "[encoded data removed]",
      "text/plain": [
       "<Figure size 1152x576 with 8 Axes>"
      ]
     },
     "metadata": {
      "needs_background": "light"
     },
     "output_type": "display_data"
    },
    {
     "name": "stdout",
     "output_type": "stream",
     "text": [
      "Ratio of max:  35.428929808320675\n",
      "Ratio of max:  35.57696914672851\n",
      "Ratios of max to sum: 0.09177985 0.0921633543989775\n",
      "GalSim trace radius =  2.332353072067279\n",
      "LSST trace radius =  2.328572215965744\n"
     ]
    },
    {
     "data": {
      "image/png": "[encoded data removed]",
      "text/plain": [
       "<Figure size 1152x576 with 8 Axes>"
      ]
     },
     "metadata": {
      "needs_background": "light"
     },
     "output_type": "display_data"
    },
    {
     "name": "stdout",
     "output_type": "stream",
     "text": [
      "Ratio of max:  35.57021318520646\n",
      "Ratio of max:  33.23503494262688\n",
      "Ratios of max to sum: 0.08411732 0.07859503464236076\n",
      "GalSim trace radius =  2.171193401988471\n",
      "LSST trace radius =  2.247308016550334\n"
     ]
    },
    {
     "data": {
      "image/png": "[encoded data removed]",
      "text/plain": [
       "<Figure size 1152x576 with 8 Axes>"
      ]
     },
     "metadata": {
      "needs_background": "light"
     },
     "output_type": "display_data"
    },
    {
     "name": "stdout",
     "output_type": "stream",
     "text": [
      "Ratio of max:  35.526359915717286\n",
      "Ratio of max:  32.304336547851484\n",
      "Ratios of max to sum: 0.112202935 0.1020268169059853\n",
      "GalSim trace radius =  1.9809429429761398\n",
      "LSST trace radius =  2.0761964992328306\n"
     ]
    },
    {
     "data": {
      "image/png": "[encoded data removed]",
      "text/plain": [
       "<Figure size 1152x576 with 8 Axes>"
      ]
     },
     "metadata": {
      "needs_background": "light"
     },
     "output_type": "display_data"
    }
   ],
   "source": [
    "#fig, ax = plt.subplots(3,len(galsim_warped_psf_image_list))\n",
    "#fig.set_size_inches(100,40)\n",
    "for psf_id in range(len(galsim_warped_psf_image_list)):\n",
    "    fig, ax = plt.subplots(1,4)\n",
    "    fig.set_size_inches(16,8)\n",
    "    psf_im = galsim_warped_psf_image_list[psf_id]\n",
    "    norm_im1 = galsim_warped_psf_image_list[psf_id].array/galsim_warped_psf_image_list[psf_id].array.sum()\n",
    "    \n",
    "    ratio_im = psf_im.array/psf_image_list[psf_id].array\n",
    "    thres=3; ratio_im[ratio_im>thres] = thres; ratio_im[ratio_im<-thres] = -thres;\n",
    "    _im1 = ax[0].imshow(norm_im1)\n",
    "    ax[0].set_title(\"GalSim \\n Max = %6f  Sum = %4f\" % (psf_im.array.max(), psf_im.array.sum()))\n",
    "    _cbar1 = fig.colorbar(_im1, ax=ax[0],orientation='horizontal')\n",
    "    \n",
    "    norm_im2 = psf_image_list[psf_id].array/psf_image_list[psf_id].array.sum()\n",
    "    _im2 = ax[1].imshow(norm_im2, origin='lower')\n",
    "    ax[1].set_title(\"LSST stack \\n Max = %6f  Sum = %4f\" % (psf_image_list[psf_id].array.max(), psf_image_list[psf_id].array.sum()))\n",
    "    _cbar2 = fig.colorbar(_im2, ax=ax[1],orientation='horizontal')\n",
    "    \n",
    "    diff_im = norm_im1 - norm_im2\n",
    "    _im3 = ax[2].imshow(diff_im)\n",
    "    ax[2].set_title(\"Difference image\")\n",
    "    #_im3 = ax[2,psf_id].imshow(psf_image_copy_list[psf_id].array/psf_image_copy_list[psf_id].array.sum())\n",
    "    _cbar3 = fig.colorbar(_im3, ax=ax[2],orientation='horizontal')\n",
    "    \n",
    "    _im4 = ax[3].imshow(orig_psf_image_list[psf_id].array)\n",
    "    ax[3].set_title(\"Original PSF pre-warping\")\n",
    "    _cbar4 = fig.colorbar(_im4, ax=ax[3],orientation='horizontal')\n",
    "\n",
    "\n",
    "    #ax[1].set_title(\"Max = \"+str(psf_image_list[psf_id].array.max())+\"  Sum = \"+str(psf_image_list[psf_id].array.sum()))\n",
    "    \n",
    "    print(\"Ratio of max: \", psf_im.array.max()/psf_image_list[psf_id].array.max())\n",
    "    print(\"Ratio of max: \", psf_im.array.sum()/psf_image_list[psf_id].array.sum())\n",
    "    print(\"Ratios of max to sum:\", psf_im.array.max()/psf_im.array.sum(), psf_image_list[psf_id].array.max()/psf_image_list[psf_id].array.sum())\n",
    "    \n",
    "    M1, M2, determinantRadius = galsim_warped_psf_image_list[psf_id].FindMom()\n",
    "    traceRadius = getTraceRadius(M2)\n",
    "    print(\"GalSim trace radius = \", traceRadius)\n",
    "    \n",
    "    M1, M2, determinantRadius = galsim.Image(psf_image_list[psf_id].array).FindMom()\n",
    "    traceRadius = getTraceRadius(M2)\n",
    "    print(\"LSST trace radius = \", traceRadius)\n",
    "    \n",
    "    \n",
    "    plt.show()"
   ]
  },
  {
   "cell_type": "markdown",
   "metadata": {},
   "source": [
    "- Warning: The disagreement between LSST stack output and GalSim output isn't alarming by itself, as I had thought originally. I have come to realise that the warping operations are designed to achieve different things, hence this comparison isn't all that useful.\n",
    "\n",
    "- However, it is interesting to note that the trace radius from GalSim warped images are almost always larger. \n",
    "\n",
    "- The dipole pattern in the difference images is somewhat distrubing. It seems to suggest the GalSim warped PSFs are more extended than the LSST stack warped ones."
   ]
  },
  {
   "cell_type": "markdown",
   "metadata": {},
   "source": [
    "## Checking interpolation kernel with GalSim\n",
    "\n",
    "The differences between GalSim and LSST stack PSF images are not due to difference in interpolation kernels themselves. See [this notebook](check_interpolation.ipynb) where I create a high resolution image from a lower resolution image using GalSim and LSST stack kernels, and they agree extremely well."
   ]
  },
  {
   "cell_type": "markdown",
   "metadata": {},
   "source": [
    "# Conclusions\n",
    "\n",
    "## a.k.a. explanation hithertho unexplored\n",
    "\n",
    "- The PSF model and the calexps are essentially warped by the same function. Any differences between them could not possibly occur due to a bug in the warping functionality.\n",
    "\n",
    "    * There is a minor difference between how PSFs and calexps are warped. An affine transformation is computed at the location of the star to warp the PSF but the calexp is warped with local affine transformations calculated at interpLength=10 pixels. This is unlikely to cause the difference we see.\n",
    "\n",
    "\n",
    "- I am beginning to think this is a discrepancy with the measurement rather than image manipulation. My hypothesis is that the CModel fit, from which the trace radius is computed, is biased due to correlated noise in the warps and coadds. The correlation depends on the interpolation kernel chosen, which is what I bet we are witnessing."
   ]
  },
  {
   "cell_type": "markdown",
   "metadata": {},
   "source": [
    "#### Testing the WCS conversion"
   ]
  },
  {
   "cell_type": "code",
   "execution_count": 9,
   "metadata": {},
   "outputs": [
    {
     "name": "stdout",
     "output_type": "stream",
     "text": [
      "GalSim WCS =  galsim.AffineTransform(4.966028586781432e-05, -0.16796977624336407, -0.16796362064276835, -2.8332780182318732e-05, origin=galsim.PositionD(x=0.0, y=0.0), world_origin=galsim.PositionD(x=0.0, y=0.0))\n",
      "LSST WCS =  [[-1.67963621e-01 -2.83327802e-05]\n",
      " [-4.96602859e-05  1.67969776e-01]]\n"
     ]
    }
   ],
   "source": [
    "galsimWCS = convertWCS(coaddWcs, point)\n",
    "\n",
    "skyPoint = coaddWcs.pixelToSky(geom.Point2D(point))\n",
    "lsstWCS = afwGeom.makeTransform( coaddWcs.linearizePixelToSky(skyPoint, geom.arcseconds) )\n",
    "\n",
    "print(\"GalSim WCS = \", galsimWCS)\n",
    "print(\"LSST WCS = \", lsstWCS.getJacobian(point))"
   ]
  },
  {
   "cell_type": "markdown",
   "metadata": {},
   "source": [
    "#### Q & A for self\n",
    "\n",
    "- This is hidden, but you could pass the kernelName to WarpedPsf !\n",
    "- How is the average position of the WarpedPsf always pairs of perfect integers when the orig_psf has fractional average positions\n",
    "\n",
    "    (Is this) Because an integer position for the coaddPsf is calculated first, and the average position of the calexp Psfs are found from the inverse\n",
    "    \n",
    "- Why do the average positions of the WarpedPsf vary so much?\n",
    "    \n",
    "- What does the line containing ndarray::asEigenmatrix do exactly?\n",
    "\n",
    "    Likely, normalizes the pixel values in the PSF image to sum to unity\n",
    "    "
   ]
  },
  {
   "cell_type": "code",
   "execution_count": 43,
   "metadata": {},
   "outputs": [
    {
     "name": "stdout",
     "output_type": "stream",
     "text": [
      "1.188825737223486 1.177487820912339 (ixx=1.1449188277479534, iyy=1.6816944392219768, ixy=-0.055529976738055174)\n"
     ]
    }
   ],
   "source": [
    "shape = warped_psf.computeShape()\n",
    "trRadius = shape.getTraceRadius()\n",
    "print(trRadius, shape.getDeterminantRadius(), shape)"
   ]
  },
  {
   "cell_type": "code",
   "execution_count": 44,
   "metadata": {},
   "outputs": [
    {
     "name": "stdout",
     "output_type": "stream",
     "text": [
      "1.245235868194713 1.2393654003035182 (ixx=1.7540005667409402, iyy=1.3472241681363422, ixy=0.06045041313849508)\n"
     ]
    }
   ],
   "source": [
    "shape = orig_psf.computeShape()\n",
    "trRadius = shape.getTraceRadius()\n",
    "print(trRadius, shape.getDeterminantRadius(), shape)"
   ]
  },
  {
   "cell_type": "code",
   "execution_count": 38,
   "metadata": {},
   "outputs": [
    {
     "data": {
      "text/plain": [
       "0.9119473237396691"
      ]
     },
     "execution_count": 38,
     "metadata": {},
     "output_type": "execute_result"
    }
   ],
   "source": [
    "determin"
   ]
  },
  {
   "cell_type": "code",
   "execution_count": 80,
   "metadata": {},
   "outputs": [
    {
     "data": {
      "text/plain": [
       "[0.0, 0.0, 0.0, 0.0, 0.0, 0.0]"
      ]
     },
     "execution_count": 80,
     "metadata": {},
     "output_type": "execute_result"
    }
   ],
   "source": [
    "[psfim.array.min() for psfim in psf_image_copy_list]"
   ]
  },
  {
   "cell_type": "code",
   "execution_count": 82,
   "metadata": {},
   "outputs": [
    {
     "data": {
      "text/plain": [
       "galsim.hsm.ShapeData(image_bounds=galsim.BoundsI(xmin=1, xmax=39, ymin=1, ymax=41), moments_status=0, observed_shape=galsim.Shear((-0.09508777981470652-0.020055111802847282j)), moments_sigma=1.1863987445831299, moments_amp=0.8665685057640076, moments_centroid=galsim.PositionD(x=19.995490854750045, y=21.001318079853768), moments_rho4=2.1178412566095024, moments_n_iter=25, correction_status=-10)"
      ]
     },
     "execution_count": 82,
     "metadata": {},
     "output_type": "execute_result"
    }
   ],
   "source": [
    "galsim.Image(psfim.array).FindAdaptiveMom()"
   ]
  },
  {
   "cell_type": "code",
   "execution_count": 83,
   "metadata": {},
   "outputs": [
    {
     "data": {
      "text/plain": [
       "galsim.hsm.ShapeData(image_bounds=galsim.BoundsI(xmin=1, xmax=39, ymin=1, ymax=41), moments_status=0, observed_shape=galsim.Shear((-0.09508777981470652-0.020055111802847282j)), moments_sigma=1.1863987445831299, moments_amp=8.665684700012207, moments_centroid=galsim.PositionD(x=19.995490854750045, y=21.001318079853768), moments_rho4=2.1178412566095024, moments_n_iter=25, correction_status=-10)"
      ]
     },
     "execution_count": 83,
     "metadata": {},
     "output_type": "execute_result"
    }
   ],
   "source": [
    "galsim.Image(10.*psfim.array).FindAdaptiveMom()"
   ]
  },
  {
   "cell_type": "code",
   "execution_count": 85,
   "metadata": {},
   "outputs": [
    {
     "name": "stdout",
     "output_type": "stream",
     "text": [
      "{3: [3], 5: [], 7: [-7], 9: []}\n"
     ]
    }
   ],
   "source": [
    "orders = [3,5,7,9]\n",
    "di= {ord: [] for ord in orders}\n",
    "di[3].append(3); di[7].append(-7)\n",
    "print(di)"
   ]
  },
  {
   "cell_type": "code",
   "execution_count": 20,
   "metadata": {},
   "outputs": [
    {
     "data": {
      "text/plain": [
       "<lsst.daf.base.propertyContainer.propertyList.PropertyList at 0x7f420d518810>"
      ]
     },
     "execution_count": 20,
     "metadata": {},
     "output_type": "execute_result"
    }
   ],
   "source": [
    "coaddWcs.getFitsMetadata()"
   ]
  },
  {
   "cell_type": "code",
   "execution_count": 16,
   "metadata": {},
   "outputs": [
    {
     "data": {
      "text/plain": [
       "Non-standard SkyWcs (Frames: PIXELS, FOCAL, IWC, SKY): \n",
       "Sky Origin: (343.508090, +0.055518)\n",
       "Pixel Origin: (-21.2919, 2590.71)\n",
       "Pixel Scale: 0.158933 arcsec/pixel"
      ]
     },
     "execution_count": 16,
     "metadata": {},
     "output_type": "execute_result"
    }
   ],
   "source": [
    "deepCoadd.getPsf().getWcs(3)"
   ]
  },
  {
   "cell_type": "code",
   "execution_count": 21,
   "metadata": {},
   "outputs": [
    {
     "data": {
      "text/plain": [
       "\u001b[0;31mDocstring:\u001b[0m\n",
       "makeSkyWcs(*args, **kwargs)\n",
       "Overloaded function.\n",
       "\n",
       "1. makeSkyWcs(crpix: lsst.geom.Point2D, crval: lsst.geom.SpherePoint, cdMatrix: numpy.ndarray[float64[2, 2]], projection: str='TAN') -> lsst::afw::geom::SkyWcs\n",
       "\n",
       "2. makeSkyWcs(metadata: lsst.daf.base.propertyContainer.propertySet.PropertySet, strip: bool=False) -> lsst::afw::geom::SkyWcs\n",
       "\n",
       "3. makeSkyWcs(pixelsToFieldAngle: lsst.afw.geom.transform.transform.TransformPoint2ToPoint2, orientation: lsst.geom.Angle, flipX: bool, boresight: lsst.geom.SpherePoint, projection: str='TAN') -> lsst::afw::geom::SkyWcs\n",
       "\u001b[0;31mType:\u001b[0m      builtin_function_or_method\n"
      ]
     },
     "metadata": {},
     "output_type": "display_data"
    }
   ],
   "source": [
    "afwGeom.makeSkyWcs?"
   ]
  },
  {
   "cell_type": "code",
   "execution_count": 3,
   "metadata": {},
   "outputs": [],
   "source": [
    "from lsst.daf.base import PropertyList\n",
    "from lsst.afw.geom import makeSkyWcs\n",
    "metadata = PropertyList()\n",
    "\n",
    "header = ((\"RADESYS\", \"ICRS\"),\n",
    "            (\"CTYPE1\", \"RA---TAN-SIP\"),\n",
    "            (\"CTYPE2\", \"DEC--TAN-SIP\"),\n",
    "            (\"CRPIX1\", 1531.1824767147),\n",
    "            (\"CRPIX2\", 1531.1824767147),\n",
    "            (\"CRVAL1\", 43.035511801383),\n",
    "            (\"CRVAL2\", 44.305697682784),\n",
    "            (\"CUNIT1\", \"deg\"),\n",
    "            (\"CUNIT2\", \"deg\"),\n",
    "            (\"CD1_1\", 0.00027493991598151),\n",
    "            (\"CD1_2\", -3.2758487104158e-06),\n",
    "            (\"CD2_1\", 3.2301310675830e-06),\n",
    "            (\"CD2_2\", 0.00027493937506632),\n",
    "            (\"A_ORDER\", 5),\n",
    "            (\"A_0_2\", -1.7769487466972e-09),\n",
    "            (\"A_0_3\", 5.3745894718340e-13),\n",
    "            (\"A_0_4\", -7.2921116596880e-17),\n",
    "            (\"A_0_5\", 8.6947236956136e-21),\n",
    "            (\"A_1_1\", 5.4246387438098e-08),\n",
    "            (\"A_1_2\", -1.5689083084641e-12),\n",
    "            (\"A_1_3\", 1.2424130500997e-16),\n",
    "            (\"A_1_4\", 3.9982572658006e-20),\n",
    "            (\"A_2_0\", 4.9268299826160e-08),\n",
    "            (\"A_2_1\", 1.6365657558495e-12),\n",
    "            (\"A_2_2\", 1.1976983061953e-16),\n",
    "            (\"A_2_3\", -1.7262037266467e-19),\n",
    "            (\"A_3_0\", -5.9235031179999e-13),\n",
    "            (\"A_3_1\", -3.4444326387310e-16),\n",
    "            (\"A_3_2\", 1.4377441160800e-19),\n",
    "            (\"A_4_0\", 1.8736407845095e-16),\n",
    "            (\"A_4_1\", 2.9213314172884e-20),\n",
    "            (\"A_5_0\", -5.3601346091084e-20),\n",
    "            (\"B_ORDER\", 5),\n",
    "            (\"B_0_2\", 4.9268299822979e-08),\n",
    "            (\"B_0_3\", -5.9235032026906e-13),\n",
    "            (\"B_0_4\", 1.8736407776035e-16),\n",
    "            (\"B_0_5\", -5.3601341373220e-20),\n",
    "            (\"B_1_1\", 5.4246387435453e-08),\n",
    "            (\"B_1_2\", 1.6365657531115e-12),\n",
    "            (\"B_1_3\", -3.4444326228808e-16),\n",
    "            (\"B_1_4\", 2.9213312399941e-20),\n",
    "            (\"B_2_0\", -1.7769487494962e-09),\n",
    "            (\"B_2_1\", -1.5689082999319e-12),\n",
    "            (\"B_2_2\", 1.1976983393279e-16),\n",
    "            (\"B_2_3\", 1.4377441169892e-19),\n",
    "            (\"B_3_0\", 5.3745894237186e-13),\n",
    "            (\"B_3_1\", 1.2424130479929e-16),\n",
    "            (\"B_3_2\", -1.7262036838229e-19),\n",
    "            (\"B_4_0\", -7.2921117326608e-17),\n",
    "            (\"B_4_1\", 3.9982566975450e-20),\n",
    "            (\"B_5_0\", 8.6947240592408e-21),\n",
    "            (\"AP_ORDER\", 6),\n",
    "            (\"AP_0_0\", -5.4343024221207e-11),\n",
    "            (\"AP_0_1\", 5.5722265946666e-12),\n",
    "            (\"AP_0_2\", 1.7769484042400e-09),\n",
    "            (\"AP_0_3\", -5.3773609554820e-13),\n",
    "            (\"AP_0_4\", 7.3035278852156e-17),\n",
    "            (\"AP_0_5\", -8.7151153799062e-21),\n",
    "            (\"AP_0_6\", 3.2535945427624e-27),\n",
    "            (\"AP_1_0\", -3.8944805432871e-12),\n",
    "            (\"AP_1_1\", -5.4246388067582e-08),\n",
    "            (\"AP_1_2\", 1.5741716194971e-12),\n",
    "            (\"AP_1_3\", -1.2447067748187e-16),\n",
    "            (\"AP_1_4\", -3.9960260822306e-20),\n",
    "            (\"AP_1_5\", 1.1297941471380e-26),\n",
    "            (\"AP_2_0\", -4.9268299293185e-08),\n",
    "            (\"AP_2_1\", -1.6256111849359e-12),\n",
    "            (\"AP_2_2\", -1.1973373130440e-16),\n",
    "            (\"AP_2_3\", 1.7266948205700e-19),\n",
    "            (\"AP_2_4\", -3.7059606160753e-26),\n",
    "            (\"AP_3_0\", 5.9710911995811e-13),\n",
    "            (\"AP_3_1\", 3.4464427650041e-16),\n",
    "            (\"AP_3_2\", -1.4381853884204e-19),\n",
    "            (\"AP_3_3\", -7.6527426974322e-27),\n",
    "            (\"AP_4_0\", -1.8748435698960e-16),\n",
    "            (\"AP_4_1\", -2.9267280226373e-20),\n",
    "            (\"AP_4_2\", 4.8004317051259e-26),\n",
    "            (\"AP_5_0\", 5.3657330221120e-20),\n",
    "            (\"AP_5_1\", -1.6904065766661e-27),\n",
    "            (\"AP_6_0\", -1.9484495120493e-26),\n",
    "            (\"BP_ORDER\", 6),\n",
    "            (\"BP_0_0\", -5.4291220607725e-11),\n",
    "            (\"BP_0_1\", -3.8944871307931e-12),\n",
    "            (\"BP_0_2\", -4.9268299290361e-08),\n",
    "            (\"BP_0_3\", 5.9710912831833e-13),\n",
    "            (\"BP_0_4\", -1.8748435594265e-16),\n",
    "            (\"BP_0_5\", 5.3657325543368e-20),\n",
    "            (\"BP_0_6\", -1.9484577299247e-26),\n",
    "            (\"BP_1_0\", 5.5722051513577e-12),\n",
    "            (\"BP_1_1\", -5.4246388065000e-08),\n",
    "            (\"BP_1_2\", -1.6256111821465e-12),\n",
    "            (\"BP_1_3\", 3.4464427499767e-16),\n",
    "            (\"BP_1_4\", -2.9267278448109e-20),\n",
    "            (\"BP_1_5\", -1.6904244067295e-27),\n",
    "            (\"BP_2_0\", 1.7769484069376e-09),\n",
    "            (\"BP_2_1\", 1.5741716110182e-12),\n",
    "            (\"BP_2_2\", -1.1973373446176e-16),\n",
    "            (\"BP_2_3\", -1.4381853893526e-19),\n",
    "            (\"BP_2_4\", 4.8004294492911e-26),\n",
    "            (\"BP_3_0\", -5.3773609074713e-13),\n",
    "            (\"BP_3_1\", -1.2447067726801e-16),\n",
    "            (\"BP_3_2\", 1.7266947774875e-19),\n",
    "            (\"BP_3_3\", -7.6527556667042e-27),\n",
    "            (\"BP_4_0\", 7.3035279660505e-17),\n",
    "            (\"BP_4_1\", -3.9960255158200e-20),\n",
    "            (\"BP_4_2\", -3.7059659675039e-26),\n",
    "            (\"BP_5_0\", -8.7151157361284e-21),\n",
    "            (\"BP_5_1\", 1.1297944388060e-26),\n",
    "            (\"BP_6_0\", 3.2535788867488e-27),\n",
    "         )\n",
    "\n",
    "for name, value in header:\n",
    "    metadata.set(name, value)\n",
    "wcs = makeSkyWcs(metadata)"
   ]
  },
  {
   "cell_type": "code",
   "execution_count": 4,
   "metadata": {},
   "outputs": [
    {
     "name": "stdout",
     "output_type": "stream",
     "text": [
      "FITS standard SkyWcs:\n",
      "Sky Origin: (43.035512, +44.305698)\n",
      "Pixel Origin: (1530.18, 1530.18)\n",
      "Pixel Scale: 0.989852 arcsec/pixel\n"
     ]
    }
   ],
   "source": [
    "print(wcs)"
   ]
  },
  {
   "cell_type": "code",
   "execution_count": 5,
   "metadata": {},
   "outputs": [
    {
     "data": {
      "text/plain": [
       "FITS standard SkyWcs:\n",
       "Sky Origin: (43.035512, +44.305698)\n",
       "Pixel Origin: (1530.18, 1530.18)\n",
       "Pixel Scale: 0.989852 arcsec/pixel"
      ]
     },
     "execution_count": 5,
     "metadata": {},
     "output_type": "execute_result"
    }
   ],
   "source": [
    "wcs"
   ]
  },
  {
   "cell_type": "code",
   "execution_count": null,
   "metadata": {},
   "outputs": [],
   "source": []
  }
 ],
 "metadata": {
  "kernelspec": {
   "display_name": "Python 3",
   "language": "python",
   "name": "python3"
  },
  "language_info": {
   "codemirror_mode": {
    "name": "ipython",
    "version": 3
   },
   "file_extension": ".py",
   "mimetype": "text/x-python",
   "name": "python",
   "nbconvert_exporter": "python",
   "pygments_lexer": "ipython3",
   "version": "3.7.2"
  }
 },
 "nbformat": 4,
 "nbformat_minor": 4
}
